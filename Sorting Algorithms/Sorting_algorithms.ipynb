{
 "cells": [
  {
   "cell_type": "markdown",
   "metadata": {},
   "source": [
    "# **Sorting Algorithms**\n",
    "\n",
    "* **Bubble Sort**\n",
    "* **Insertion Sort**\n",
    "* **Merge Sort**\n",
    "* **Quick Sort**"
   ]
  },
  {
   "cell_type": "markdown",
   "metadata": {},
   "source": [
    "### **1. Bubble Sort**"
   ]
  },
  {
   "cell_type": "code",
   "execution_count": 31,
   "metadata": {},
   "outputs": [
    {
     "name": "stdout",
     "output_type": "stream",
     "text": [
      "Items before sorting are: [5, 2, 4, 1, 6, 4, 4, 13, 10, 11]\n",
      "Items after Bubble Sort are:  [1, 2, 4, 4, 4, 5, 6, 10, 11, 13]\n"
     ]
    }
   ],
   "source": [
    "import random\n",
    "\n",
    "# Create a list of ten random items that has values within 0 and 20\n",
    "random_items = [random.randint(0,20) for i in range(0, 10)]\n",
    "\n",
    "print(\"Items before sorting are:\", random_items)\n",
    "\n",
    "\n",
    "def bubble_sort(items):\n",
    "    \n",
    "#     iteration = 0\n",
    "    \n",
    "    for i in range (len(items)):\n",
    "        \n",
    "        \"\"\"Iteration through list indexes\"\"\"\n",
    "        \n",
    "        for j in range(len(items)-1-i):\n",
    "            \n",
    "            \"\"\"Iteration through items at the indexes\"\"\"\n",
    "            \n",
    "            if items[j] > items[j+1]:\n",
    "                \n",
    "                \"\"\"Swap places after comparing two adjacent elements\"\"\"\n",
    "                \n",
    "                items[j], items[j+1] = items[j+1], items[j]\n",
    "                \n",
    "#                 print(\" Showing the iteration step: \" + str(iteration))\n",
    "                \n",
    "#                 print(items)\n",
    "                \n",
    "#                 iteration += 1\n",
    "        \n",
    "    print(\"Items after Bubble Sort are: \", items)\n",
    "                \n",
    "                               \n",
    "bubble_sort(random_items)\n"
   ]
  },
  {
   "cell_type": "markdown",
   "metadata": {},
   "source": [
    "### **2. Insertion Sort**"
   ]
  },
  {
   "cell_type": "code",
   "execution_count": 3,
   "metadata": {},
   "outputs": [
    {
     "name": "stdout",
     "output_type": "stream",
     "text": [
      "Items before sorting are: [3, 17, 19, 12, 13, 12, 9, 20, 5, 20]\n",
      "Items after Insertion Sort are:  [3, 5, 9, 12, 12, 13, 17, 19, 20, 20]\n"
     ]
    }
   ],
   "source": [
    "import random\n",
    "\n",
    "# Create a list of ten random items that has values within 0 and 20\n",
    "random_items = [random.randint(0,20) for i in range(0, 10)]\n",
    "\n",
    "print(\"Items before sorting are:\", random_items)\n",
    "\n",
    "\n",
    "def insertion_sort(items):\n",
    "    \n",
    "    for i in range (1, len(items)):\n",
    "        \n",
    "        \"\"\"Iteration through list\"\"\"\n",
    "        \n",
    "        j = i\n",
    "        \n",
    "        while j > 0 and items[j] < items[j-1]:\n",
    "            \n",
    "            \"\"\"While j is not on the initial index(loop terminator) and items are not in their actual place\"\"\"\n",
    "            \n",
    "            items[j], items[j-1] = items[j-1], items[j]\n",
    "            \n",
    "            j -= 1\n",
    "            \n",
    "            \"\"\"Decrement j till it reaches 0 and terminates the loop\"\"\"\n",
    "        \n",
    "    print(\"Items after Insertion Sort are: \", items)\n",
    "    \n",
    "insertion_sort(random_items)\n",
    "    "
   ]
  },
  {
   "cell_type": "markdown",
   "metadata": {},
   "source": [
    "### **3. Merge Sort**"
   ]
  },
  {
   "cell_type": "code",
   "execution_count": 7,
   "metadata": {},
   "outputs": [
    {
     "name": "stdout",
     "output_type": "stream",
     "text": [
      "Items before sorting are: [11, 2, 5, 10, 11, 5, 17, 1, 1, 6]\n"
     ]
    },
    {
     "data": {
      "text/plain": [
       "[1, 1, 2, 5, 5, 6, 10, 11, 11, 17]"
      ]
     },
     "execution_count": 7,
     "metadata": {},
     "output_type": "execute_result"
    }
   ],
   "source": [
    "import random\n",
    "\n",
    "# Create a list of ten random items that has values within 0 and 20\n",
    "random_items = [random.randint(0,20) for i in range(0, 10)]\n",
    "\n",
    "print(\"Items before sorting are:\", random_items)\n",
    "\n",
    "def merge(left, right):\n",
    "    \n",
    "    if len(left) == 0:\n",
    "        \n",
    "        return right\n",
    "\n",
    "    if len(right) == 0:\n",
    "\n",
    "        return left\n",
    "\n",
    "    result = []\n",
    "\n",
    "    index_left = index_right = 0\n",
    "\n",
    "    # Go through both arrays until all the elements make it into the resultant array\n",
    "\n",
    "    while len(result) < len(left) + len(right):\n",
    "\n",
    "        if left[index_left] <= right[index_right]:\n",
    "\n",
    "            result.append(left[index_left])\n",
    "\n",
    "            index_left += 1\n",
    "\n",
    "        else:\n",
    "\n",
    "            result.append(right[index_right])\n",
    "\n",
    "            index_right += 1\n",
    "\n",
    "        if index_right == len(right):\n",
    "\n",
    "            result += left[index_left:]\n",
    "\n",
    "            break\n",
    "\n",
    "        if index_left == len(left):\n",
    "\n",
    "            result += right[index_right:]\n",
    "\n",
    "            break\n",
    "\n",
    "    return result\n",
    "\n",
    "\n",
    "def merge_sort(array):\n",
    "\n",
    "    if len(array) < 2:\n",
    "\n",
    "        return array\n",
    "\n",
    "    midpoint = len(array) // 2\n",
    "\n",
    "    # Sort the array by recursively splitting the input into two equal halves, \n",
    "    # sorting each half and merging them together into the final result\n",
    "\n",
    "    return merge(\n",
    "\n",
    "        left=merge_sort(array[:midpoint]),\n",
    "\n",
    "        right=merge_sort(array[midpoint:]))\n",
    "\n",
    "merge_sort(random_items)  \n"
   ]
  },
  {
   "cell_type": "markdown",
   "metadata": {},
   "source": [
    "### **4. Quick Sort**"
   ]
  },
  {
   "cell_type": "code",
   "execution_count": 17,
   "metadata": {},
   "outputs": [
    {
     "name": "stdout",
     "output_type": "stream",
     "text": [
      "Items before sorting are: [14, 2, 12, 17, 15, 6, 20, 11, 1, 2]\n"
     ]
    },
    {
     "data": {
      "text/plain": [
       "[1, 2, 2, 6, 11, 12, 14, 15, 17, 20]"
      ]
     },
     "execution_count": 17,
     "metadata": {},
     "output_type": "execute_result"
    }
   ],
   "source": [
    "import random\n",
    "\n",
    "# Create a list of ten random items that has values within 0 and 20\n",
    "random_items = [random.randint(0,20) for i in range(0, 10)]\n",
    "\n",
    "print(\"Items before sorting are:\", random_items)\n",
    "\n",
    "def quick_sort(items):\n",
    "    \n",
    "    if len(items)>1:\n",
    "        \n",
    "        low = []\n",
    "        high = []\n",
    "        \n",
    "        pivot_index = len(items)//2\n",
    "        \n",
    "        for index, value in enumerate(items):\n",
    "            \n",
    "#             print(index, value)\n",
    "            \n",
    "            if index!= pivot_index:\n",
    "            \n",
    "                if value < items[pivot_index]:\n",
    "                    low.append(value)\n",
    "                \n",
    "                else:\n",
    "                    high.append(value)\n",
    "    \n",
    "        quick_sort(low)\n",
    "        quick_sort(high)\n",
    "    \n",
    "        items[:] = low + [items[pivot_index]] + high\n",
    "    \n",
    "    return items\n",
    "        \n",
    "                \n",
    "quick_sort(random_items)      \n",
    "        \n",
    "    \n",
    "    "
   ]
  },
  {
   "cell_type": "code",
   "execution_count": null,
   "metadata": {},
   "outputs": [],
   "source": []
  }
 ],
 "metadata": {
  "kernelspec": {
   "display_name": "Python 3",
   "language": "python",
   "name": "python3"
  },
  "language_info": {
   "codemirror_mode": {
    "name": "ipython",
    "version": 3
   },
   "file_extension": ".py",
   "mimetype": "text/x-python",
   "name": "python",
   "nbconvert_exporter": "python",
   "pygments_lexer": "ipython3",
   "version": "3.7.6"
  }
 },
 "nbformat": 4,
 "nbformat_minor": 4
}
