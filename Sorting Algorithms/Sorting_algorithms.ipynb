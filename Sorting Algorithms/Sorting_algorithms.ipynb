{
 "cells": [
  {
   "cell_type": "markdown",
   "metadata": {},
   "source": [
    "# **Sorting Algorithms**\n",
    "\n",
    "* **Bubble Sort**\n",
    "* **Insertion Sort**\n",
    "* **Merge Sort**\n",
    "* **Quick Sort**"
   ]
  },
  {
   "cell_type": "markdown",
   "metadata": {},
   "source": [
    "### **1. Bubble Sort**"
   ]
  },
  {
   "cell_type": "code",
   "execution_count": 31,
   "metadata": {},
   "outputs": [
    {
     "name": "stdout",
     "output_type": "stream",
     "text": [
      "Items before sorting are: [5, 2, 4, 1, 6, 4, 4, 13, 10, 11]\n",
      "Items after Bubble Sort are:  [1, 2, 4, 4, 4, 5, 6, 10, 11, 13]\n"
     ]
    }
   ],
   "source": [
    "import random\n",
    "\n",
    "# Create a list of ten random items that has values within 0 and 20\n",
    "random_items = [random.randint(0,20) for i in range(0, 10)]\n",
    "\n",
    "print(\"Items before sorting are:\", random_items)\n",
    "\n",
    "\n",
    "def bubble_sort(items):\n",
    "    \n",
    "#     iteration = 0\n",
    "    \n",
    "    for i in range (len(items)):\n",
    "        \n",
    "        \"\"\"First index of comparison\"\"\"\n",
    "        \n",
    "        for j in range(len(items)-1-i):\n",
    "            \n",
    "            \"\"\"Second index of comparison\"\"\"\n",
    "            \n",
    "            if items[j] > items[j+1]:\n",
    "                \n",
    "                \"\"\"Swap places after comparing two adjacent elements\"\"\"\n",
    "                \n",
    "                items[j], items[j+1] = items[j+1], items[j]\n",
    "                \n",
    "#                 print(\" Showing the iteration step: \" + str(iteration))\n",
    "                \n",
    "#                 print(items)\n",
    "                \n",
    "#                 iteration += 1\n",
    "        \n",
    "    print(\"Items after Bubble Sort are: \", items)\n",
    "                \n",
    "                               \n",
    "bubble_sort(random_items)\n"
   ]
  },
  {
   "cell_type": "code",
   "execution_count": null,
   "metadata": {},
   "outputs": [],
   "source": []
  }
 ],
 "metadata": {
  "kernelspec": {
   "display_name": "Python 3",
   "language": "python",
   "name": "python3"
  },
  "language_info": {
   "codemirror_mode": {
    "name": "ipython",
    "version": 3
   },
   "file_extension": ".py",
   "mimetype": "text/x-python",
   "name": "python",
   "nbconvert_exporter": "python",
   "pygments_lexer": "ipython3",
   "version": "3.7.6"
  }
 },
 "nbformat": 4,
 "nbformat_minor": 4
}
