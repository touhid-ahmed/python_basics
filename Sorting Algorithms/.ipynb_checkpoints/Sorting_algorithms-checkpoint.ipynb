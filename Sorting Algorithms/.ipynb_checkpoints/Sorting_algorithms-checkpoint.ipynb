{
 "cells": [
  {
   "cell_type": "markdown",
   "metadata": {},
   "source": [
    "# **Sorting Algorithms**\n",
    "\n",
    "* **Bubble Sort**\n",
    "* **Insertion Sort**\n",
    "* **Merge Sort**\n",
    "* **Quick Sort**"
   ]
  },
  {
   "cell_type": "markdown",
   "metadata": {},
   "source": [
    "### **1. Bubble Sort**"
   ]
  },
  {
   "cell_type": "code",
   "execution_count": 31,
   "metadata": {},
   "outputs": [
    {
     "name": "stdout",
     "output_type": "stream",
     "text": [
      "Items before sorting are: [5, 2, 4, 1, 6, 4, 4, 13, 10, 11]\n",
      "Items after Bubble Sort are:  [1, 2, 4, 4, 4, 5, 6, 10, 11, 13]\n"
     ]
    }
   ],
   "source": [
    "import random\n",
    "\n",
    "# Create a list of ten random items that has values within 0 and 20\n",
    "random_items = [random.randint(0,20) for i in range(0, 10)]\n",
    "\n",
    "print(\"Items before sorting are:\", random_items)\n",
    "\n",
    "\n",
    "def bubble_sort(items):\n",
    "    \n",
    "#     iteration = 0\n",
    "    \n",
    "    for i in range (len(items)):\n",
    "        \n",
    "        \"\"\"Iteration through list indexes\"\"\"\n",
    "        \n",
    "        for j in range(len(items)-1-i):\n",
    "            \n",
    "            \"\"\"Iteration through items at the indexes\"\"\"\n",
    "            \n",
    "            if items[j] > items[j+1]:\n",
    "                \n",
    "                \"\"\"Swap places after comparing two adjacent elements\"\"\"\n",
    "                \n",
    "                items[j], items[j+1] = items[j+1], items[j]\n",
    "                \n",
    "#                 print(\" Showing the iteration step: \" + str(iteration))\n",
    "                \n",
    "#                 print(items)\n",
    "                \n",
    "#                 iteration += 1\n",
    "        \n",
    "    print(\"Items after Bubble Sort are: \", items)\n",
    "                \n",
    "                               \n",
    "bubble_sort(random_items)\n"
   ]
  },
  {
   "cell_type": "markdown",
   "metadata": {},
   "source": [
    "### **2. Insertion Sort**"
   ]
  },
  {
   "cell_type": "code",
   "execution_count": 3,
   "metadata": {},
   "outputs": [
    {
     "name": "stdout",
     "output_type": "stream",
     "text": [
      "Items before sorting are: [3, 17, 19, 12, 13, 12, 9, 20, 5, 20]\n",
      "Items after Insertion Sort are:  [3, 5, 9, 12, 12, 13, 17, 19, 20, 20]\n"
     ]
    }
   ],
   "source": [
    "import random\n",
    "\n",
    "# Create a list of ten random items that has values within 0 and 20\n",
    "random_items = [random.randint(0,20) for i in range(0, 10)]\n",
    "\n",
    "print(\"Items before sorting are:\", random_items)\n",
    "\n",
    "\n",
    "def insertion_sort(items):\n",
    "    \n",
    "    for i in range (1, len(items)):\n",
    "        \n",
    "        \"\"\"Iteration through list\"\"\"\n",
    "        \n",
    "        j = i\n",
    "        \n",
    "        while j > 0 and items[j] < items[j-1]:\n",
    "            \n",
    "            \"\"\"While j is not on the initial index(loop terminator) and items are not in their actual place\"\"\"\n",
    "            \n",
    "            items[j], items[j-1] = items[j-1], items[j]\n",
    "            \n",
    "            j -= 1\n",
    "            \n",
    "            \"\"\"Decrement j till it reaches 0 and terminates the loop\"\"\"\n",
    "        \n",
    "    print(\"Items after Insertion Sort are: \", items)\n",
    "    \n",
    "insertion_sort(random_items)\n",
    "    "
   ]
  },
  {
   "cell_type": "markdown",
   "metadata": {},
   "source": [
    "### **3. Merge Sort**"
   ]
  },
  {
   "cell_type": "code",
   "execution_count": 43,
   "metadata": {},
   "outputs": [
    {
     "name": "stdout",
     "output_type": "stream",
     "text": [
      "Items before sorting are: [15, 6, 11, 16, 11, 14, 20, 14, 5, 17]\n",
      "[5, 6, 11, 11, 14, 14, 15, 16, 17, 20]\n"
     ]
    }
   ],
   "source": [
    "import random\n",
    "\n",
    "# Create a list of ten random items that has values within 0 and 20\n",
    "random_items = [random.randint(0,20) for i in range(0, 10)]\n",
    "\n",
    "print(\"Items before sorting are:\", random_items)\n",
    "\n",
    "\n",
    "def merge_sort(items):\n",
    "    \n",
    "    if (len(items)>1):\n",
    "        \n",
    "        mid = len(items)/2\n",
    "\n",
    "        left = items[0:int(mid)]\n",
    "\n",
    "        right = items[int(mid):]\n",
    "\n",
    "        \n",
    "        merge_sort(left)\n",
    "        merge_sort(right)\n",
    "        \n",
    "        l,r = 0,0\n",
    "    \n",
    "        for i in range(len(items)):\n",
    "            lval = left[l] if l < len(left) else None\n",
    "            rval = right[r] if r < len(right) else None\n",
    "        \n",
    "            if (lval and rval and lval < rval) or rval is None:\n",
    "                items[i] = lval\n",
    "                l += 1\n",
    "            \n",
    "            elif (lval and rval and lval >= rval) or lval is None:\n",
    "                items[i] = rval\n",
    "                r += 1\n",
    "            \n",
    "            else:\n",
    "                print(\"Error\")\n",
    "                \n",
    "    return items\n",
    "        \n",
    "print(merge_sort(random_items))"
   ]
  },
  {
   "cell_type": "code",
   "execution_count": null,
   "metadata": {},
   "outputs": [],
   "source": []
  }
 ],
 "metadata": {
  "kernelspec": {
   "display_name": "Python 3",
   "language": "python",
   "name": "python3"
  },
  "language_info": {
   "codemirror_mode": {
    "name": "ipython",
    "version": 3
   },
   "file_extension": ".py",
   "mimetype": "text/x-python",
   "name": "python",
   "nbconvert_exporter": "python",
   "pygments_lexer": "ipython3",
   "version": "3.7.6"
  }
 },
 "nbformat": 4,
 "nbformat_minor": 4
}
