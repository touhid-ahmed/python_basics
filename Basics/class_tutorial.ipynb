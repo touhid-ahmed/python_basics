{
 "cells": [
  {
   "cell_type": "code",
   "execution_count": 3,
   "metadata": {},
   "outputs": [
    {
     "name": "stdout",
     "output_type": "stream",
     "text": [
      "Fruit name is: Apple\n",
      "Fruit color is: Red\n",
      "Fruit name: Apple\n",
      "Fruit color: Red\n"
     ]
    }
   ],
   "source": [
    "# define a class\n",
    "\n",
    "class Fruit:\n",
    "#     Initialise the class attributes\n",
    "    \n",
    "    def __init__(self, name, color):\n",
    "        \n",
    "        self.name = name\n",
    "        self.color = color\n",
    "\n",
    "# create a class method\n",
    "\n",
    "    def get_name(self):\n",
    "        print(\"Fruit name:\", self.name)\n",
    "    def get_color(self):\n",
    "        print(\"Fruit color:\", self.color)\n",
    "\n",
    "# create a class instance\n",
    "\n",
    "my_fruit = Fruit(\"Apple\", \"Red\")\n",
    "\n",
    "print(\"Fruit name is:\", my_fruit.name)\n",
    "print(\"Fruit color is:\", my_fruit.color)\n",
    "\n",
    "my_fruit.get_name()\n",
    "my_fruit.get_color()"
   ]
  },
  {
   "cell_type": "code",
   "execution_count": null,
   "metadata": {},
   "outputs": [],
   "source": []
  }
 ],
 "metadata": {
  "kernelspec": {
   "display_name": "Python 3",
   "language": "python",
   "name": "python3"
  },
  "language_info": {
   "codemirror_mode": {
    "name": "ipython",
    "version": 3
   },
   "file_extension": ".py",
   "mimetype": "text/x-python",
   "name": "python",
   "nbconvert_exporter": "python",
   "pygments_lexer": "ipython3",
   "version": "3.7.6"
  }
 },
 "nbformat": 4,
 "nbformat_minor": 4
}
