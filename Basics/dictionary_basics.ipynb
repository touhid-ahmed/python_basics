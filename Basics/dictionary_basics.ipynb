{
 "cells": [
  {
   "cell_type": "code",
   "execution_count": 1,
   "metadata": {},
   "outputs": [
    {
     "name": "stdout",
     "output_type": "stream",
     "text": [
      "{'first_key': 1, 'second_key': 2, 'third_key': 3}\n"
     ]
    }
   ],
   "source": [
    "#Dictionaries\n",
    "\n",
    "\"\"\"Create a dictionary with a key-value pair\"\"\"\n",
    "\n",
    "my_dict = {'first_key':1, 'second_key':2, 'third_key':3}\n",
    "\n",
    "print(my_dict)"
   ]
  },
  {
   "cell_type": "code",
   "execution_count": 2,
   "metadata": {},
   "outputs": [
    {
     "name": "stdout",
     "output_type": "stream",
     "text": [
      "<class 'dict'>\n"
     ]
    }
   ],
   "source": [
    "# Dictionary type\n",
    "\n",
    "my_dict = {'first_key':1, 'second_key':2, 'third_key':3}\n",
    "\n",
    "print(type(my_dict))"
   ]
  },
  {
   "cell_type": "code",
   "execution_count": 3,
   "metadata": {},
   "outputs": [
    {
     "name": "stdout",
     "output_type": "stream",
     "text": [
      "2\n"
     ]
    }
   ],
   "source": [
    "# Access a single element in the dictionary (key)\n",
    "\n",
    "my_dict = {'first_key':1, 'second_key':2, 'third_key':3}\n",
    "\n",
    "print(my_dict['second_key'])"
   ]
  },
  {
   "cell_type": "code",
   "execution_count": 1,
   "metadata": {},
   "outputs": [
    {
     "name": "stdout",
     "output_type": "stream",
     "text": [
      "first_key\n",
      "second_key\n",
      "third_key\n",
      "\n",
      "----------------------\n",
      "1\n",
      "2\n",
      "3\n"
     ]
    }
   ],
   "source": [
    "#Access all the elements (key or value) using a for loop\n",
    "\n",
    "my_dict = {'first_key':1, 'second_key':2, 'third_key':3}\n",
    "\n",
    "for key in my_dict:\n",
    "    print(key)\n",
    "\n",
    "print(\"\\n----------------------\")\n",
    "    \n",
    "for value in my_dict:\n",
    "    print(my_dict[value])"
   ]
  },
  {
   "cell_type": "code",
   "execution_count": 2,
   "metadata": {},
   "outputs": [
    {
     "name": "stdout",
     "output_type": "stream",
     "text": [
      "first_key 1\n",
      "second_key 2\n",
      "third_key 3\n"
     ]
    }
   ],
   "source": [
    "# Alternate Method: Using the .items and .keys method\n",
    "\n",
    "my_dict = {'first_key':1, 'second_key':2, 'third_key':3}\n",
    "\n",
    "for key, value in my_dict.items():\n",
    "    print(key, value)"
   ]
  },
  {
   "cell_type": "code",
   "execution_count": 3,
   "metadata": {},
   "outputs": [
    {
     "name": "stdout",
     "output_type": "stream",
     "text": [
      "{'first_key': 7, 'second_key': 2, 'third_key': 3}\n"
     ]
    }
   ],
   "source": [
    "# Changing a value in Dictionary\n",
    "\n",
    "my_dict = {'first_key':1, 'second_key':2, 'third_key':3}\n",
    "\n",
    "my_dict['first_key'] = 7\n",
    "\n",
    "print(my_dict)"
   ]
  },
  {
   "cell_type": "code",
   "execution_count": 4,
   "metadata": {},
   "outputs": [
    {
     "name": "stdout",
     "output_type": "stream",
     "text": [
      "{'first_key': 1, 'second_key': 2, 'third_key': 3, 'fourth_key': 4}\n"
     ]
    }
   ],
   "source": [
    "# Adding a key:value pair to the dictionary\n",
    "\n",
    "my_dict = {'first_key':1, 'second_key':2, 'third_key':3}\n",
    "\n",
    "my_dict['fourth_key'] = 4\n",
    "\n",
    "print(my_dict)"
   ]
  },
  {
   "cell_type": "code",
   "execution_count": 5,
   "metadata": {},
   "outputs": [
    {
     "name": "stdout",
     "output_type": "stream",
     "text": [
      "{'first_key': 1, 'third_key': 3}\n"
     ]
    }
   ],
   "source": [
    "# Removing a key:value pair from the dictionary\n",
    "\n",
    "my_dict = {'first_key':1, 'second_key':2, 'third_key':3}\n",
    "\n",
    "del(my_dict['second_key'])\n",
    "\n",
    "print(my_dict)"
   ]
  },
  {
   "cell_type": "code",
   "execution_count": 6,
   "metadata": {},
   "outputs": [
    {
     "name": "stdout",
     "output_type": "stream",
     "text": [
      "{0: 0, 1: 1, 2: 2, 3: 3, 4: 4, 5: 5, 6: 6, 7: 7, 8: 8, 9: 9}\n"
     ]
    }
   ],
   "source": [
    "#Adding multiple key-value to dictionary using a while loop\n",
    "\n",
    "my_dict = {}\n",
    "\n",
    "key = 0\n",
    "value = 0\n",
    "\n",
    "while key< 10:\n",
    "    my_dict[key] = value\n",
    "    key+=1\n",
    "    value+=1\n",
    "    \n",
    "print(my_dict)"
   ]
  },
  {
   "cell_type": "code",
   "execution_count": null,
   "metadata": {},
   "outputs": [],
   "source": []
  }
 ],
 "metadata": {
  "kernelspec": {
   "display_name": "Python 3",
   "language": "python",
   "name": "python3"
  },
  "language_info": {
   "codemirror_mode": {
    "name": "ipython",
    "version": 3
   },
   "file_extension": ".py",
   "mimetype": "text/x-python",
   "name": "python",
   "nbconvert_exporter": "python",
   "pygments_lexer": "ipython3",
   "version": "3.7.6"
  }
 },
 "nbformat": 4,
 "nbformat_minor": 4
}
