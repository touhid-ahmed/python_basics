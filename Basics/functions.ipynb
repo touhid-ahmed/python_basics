{
 "cells": [
  {
   "cell_type": "markdown",
   "metadata": {},
   "source": [
    "### **Functions**"
   ]
  },
  {
   "cell_type": "code",
   "execution_count": 1,
   "metadata": {},
   "outputs": [
    {
     "name": "stdout",
     "output_type": "stream",
     "text": [
      "Adding 5 with 6 gives 11!\n",
      "Adding 55 with 70 gives 125!\n"
     ]
    }
   ],
   "source": [
    "def add_two_num(x,y):\n",
    "    return print(\"Adding \" + str(x) + \" with \" + str(y) + \" gives \" + str(x+y) + \"!\")\n",
    "\n",
    "add_two_num(5,6)\n",
    "add_two_num(55, 70)"
   ]
  },
  {
   "cell_type": "code",
   "execution_count": 5,
   "metadata": {},
   "outputs": [
    {
     "name": "stdout",
     "output_type": "stream",
     "text": [
      "Greatest number is: 151\n"
     ]
    }
   ],
   "source": [
    "def largest_among_three(x,y,z):\n",
    "#     greatest_number = 0\n",
    "    if x > y and x > z:\n",
    "        print(\"Greatest number is: \" + str(x))\n",
    "    elif y > x and y > z:\n",
    "        print(\"Greatest number is: \" + str(y))\n",
    "    else:\n",
    "        print(\"Greatest number is: \" + str(z))\n",
    "\n",
    "largest_among_three(20,151,102)"
   ]
  },
  {
   "cell_type": "code",
   "execution_count": 2,
   "metadata": {},
   "outputs": [
    {
     "name": "stdout",
     "output_type": "stream",
     "text": [
      "Total after adding the elements in the list: 28\n"
     ]
    }
   ],
   "source": [
    "def sum_of_a_list(a_list):\n",
    "    final = 0\n",
    "    for i in a_list:\n",
    "        final = i + final\n",
    "    return print(\"Total after adding the elements in the list: \" + str(final))\n",
    "\n",
    "my_list = [1,2,3,4,5,6,7]\n",
    "sum_of_a_list(my_list)"
   ]
  },
  {
   "cell_type": "code",
   "execution_count": 1,
   "metadata": {},
   "outputs": [
    {
     "name": "stdout",
     "output_type": "stream",
     "text": [
      "Enter an item to the list or press 'q' to exit: cat\n",
      "Enter an item to the list or press 'q' to exit: rat\n",
      "Enter an item to the list or press 'q' to exit: hat\n",
      "Enter an item to the list or press 'q' to exit: q\n",
      "Enter the index to access: 1\n"
     ]
    },
    {
     "data": {
      "text/plain": [
       "'rat'"
      ]
     },
     "execution_count": 1,
     "metadata": {},
     "output_type": "execute_result"
    }
   ],
   "source": [
    "# Two functions to add items to the list and access the list\n",
    "\n",
    "\n",
    "def add_item_list(empty_list):\n",
    "    get_item = str(input(\"Enter an item to the list or press 'q' to exit: \"))\n",
    "    \n",
    "    while get_item != 'q':\n",
    "        empty_list.append(get_item)\n",
    "        get_item = str(input(\"Enter an item to the list or press 'q' to exit: \"))\n",
    "        \n",
    "    return empty_list\n",
    "\n",
    "def access_list(the_list, index_val):\n",
    "    \n",
    "    for index in range (0, len(the_list)):\n",
    "        if index == index_val:\n",
    "            result = the_list[index_val]\n",
    "            return result\n",
    "\n",
    "main_list = []\n",
    "\n",
    "final_list = add_item_list(main_list)\n",
    "\n",
    "get_input = int(input(\"Enter the index to access: \"))\n",
    "\n",
    "access_list(final_list, get_input)"
   ]
  },
  {
   "cell_type": "code",
   "execution_count": 5,
   "metadata": {},
   "outputs": [
    {
     "name": "stdout",
     "output_type": "stream",
     "text": [
      "Enter Operator Choice: a, s, m, d or q to quit: a\n",
      "Enter first number: 2\n",
      "Enter Second number: 4\n",
      "Addition: 6\n",
      "Enter Operator Choice: a, s, m, d or q to quit: m\n",
      "Enter first number: 4\n",
      "Enter Second number: 5\n",
      "Multiplication: 20\n",
      "Enter Operator Choice: a, s, m, d or q to quit: q\n",
      "You have exited the program\n"
     ]
    }
   ],
   "source": [
    "def calculator(choice,x,y):\n",
    "    if choice == 'a':\n",
    "        print(\"Addition: \" +str(x+y))\n",
    "    elif choice == 's':\n",
    "        print(\"Subtraction: \" +str(x-y))\n",
    "    elif choice == 'm':\n",
    "        print(\"Multiplication: \" +str(x*y))\n",
    "    elif choice == 'd':\n",
    "        print(\"Division: \" +str(x/y))\n",
    "    else:\n",
    "        print(\"Something went wrong\")\n",
    "\n",
    "while True:\n",
    "    user_input = input(\"Enter Operator Choice: a, s, m, d or q to quit: \")\n",
    "    if user_input == 'q':\n",
    "        print(\"You have exited the program\")\n",
    "        break\n",
    "    else:\n",
    "        first_num = int(input(\"Enter first number: \"))\n",
    "        second_num = int(input(\"Enter Second number: \"))\n",
    "        calculator(user_input, first_num, second_num)"
   ]
  },
  {
   "cell_type": "code",
   "execution_count": 2,
   "metadata": {},
   "outputs": [
    {
     "name": "stdout",
     "output_type": "stream",
     "text": [
      "Enter a number: 3\n",
      "It is an odd number\n",
      "Enter a number: 2\n",
      "It is an even number\n",
      "Enter a number: 4\n",
      "It is an even number\n",
      "Enter a number: 11\n",
      "It is an odd number\n",
      "Enter a number: q\n",
      "You have exited the program\n"
     ]
    }
   ],
   "source": [
    "def check_even(number):\n",
    "    if (number)%2==0:\n",
    "        print(\"It is an even number\")\n",
    "    else:\n",
    "        print(\"It is an odd number\")       \n",
    "\n",
    "try:\n",
    "    while True:\n",
    "        get_num = int(input(\"Enter a number: \"))\n",
    "        if get_num == 'q':\n",
    "            break\n",
    "        else:\n",
    "            check_even(get_num)\n",
    "\n",
    "except ValueError:\n",
    "    print(\"You have exited the program\")"
   ]
  },
  {
   "cell_type": "code",
   "execution_count": 12,
   "metadata": {},
   "outputs": [
    {
     "name": "stdout",
     "output_type": "stream",
     "text": [
      "Enter a number for test: 45622\n",
      "19\n"
     ]
    }
   ],
   "source": [
    "def add_numbers(number):\n",
    "    total = 0\n",
    "    number = str(number)\n",
    "    for i in number:\n",
    "        total = total + int(i)\n",
    "    print(total)\n",
    "    \n",
    "get_input = int(input(\"Enter a number for test: \"))\n",
    "add_numbers(get_input)"
   ]
  },
  {
   "cell_type": "code",
   "execution_count": 14,
   "metadata": {},
   "outputs": [
    {
     "name": "stdout",
     "output_type": "stream",
     "text": [
      "Number is negative\n",
      "Number is Positive\n",
      "Number is 0 itself\n",
      "Number is invalid\n"
     ]
    }
   ],
   "source": [
    "def check_polarity(number):\n",
    "    if type(number) != int:\n",
    "        print(\"Number is invalid\")\n",
    "    else:\n",
    "        \n",
    "        if int(number) < 0:\n",
    "            print(\"Number is negative\")\n",
    "        elif int(number) > 0:\n",
    "            print(\"Number is Positive\")\n",
    "        elif int(number) == 0:\n",
    "            print(\"Number is 0 itself\")\n",
    "        else:\n",
    "            print(\"Number not found\")\n",
    "        \n",
    "        \n",
    "check_polarity(-2)\n",
    "check_polarity(55)\n",
    "check_polarity(0)\n",
    "check_polarity(\"string\")"
   ]
  },
  {
   "cell_type": "code",
   "execution_count": 24,
   "metadata": {},
   "outputs": [
    {
     "name": "stdout",
     "output_type": "stream",
     "text": [
      "Enter a Number: 7\n",
      "5040\n"
     ]
    }
   ],
   "source": [
    "def factorial(num):\n",
    "    final = 1\n",
    "    \n",
    "    for i in range(1, num+1):\n",
    "        final = final*i\n",
    "    print(final)\n",
    "\n",
    "\n",
    "user_input = int(input(\"Enter a Number: \"))    \n",
    "factorial(user_input)"
   ]
  },
  {
   "cell_type": "code",
   "execution_count": 45,
   "metadata": {},
   "outputs": [
    {
     "name": "stdout",
     "output_type": "stream",
     "text": [
      "Enter a Number: 9\n",
      "It is not a prime number\n"
     ]
    }
   ],
   "source": [
    "def check_prime(number):\n",
    "    if int(number)>1:\n",
    "        \n",
    "        for i in range(2, number):\n",
    "            if number%i==0:\n",
    "                print(\"It is not a prime number\")\n",
    "                break\n",
    "        else:\n",
    "            print(\"It is a prime number\")\n",
    "                \n",
    "    else:\n",
    "        print(\"It is not a prime number\")\n",
    "    \n",
    "     \n",
    "user_input = int(input(\"Enter a Number: \"))    \n",
    "check_prime(user_input)"
   ]
  },
  {
   "cell_type": "code",
   "execution_count": 6,
   "metadata": {},
   "outputs": [
    {
     "name": "stdout",
     "output_type": "stream",
     "text": [
      "Enter a word: Rise\n",
      "2\n"
     ]
    }
   ],
   "source": [
    "def check_vowel(string):\n",
    "    vowel = 'AEIOUaeiou'\n",
    "    count = 0\n",
    "    for i in string:\n",
    "        if i in vowel:\n",
    "            count +=1\n",
    "    print(count)\n",
    "\n",
    "user_input = str(input(\"Enter a word: \"))    \n",
    "check_vowel(user_input)"
   ]
  },
  {
   "cell_type": "code",
   "execution_count": 19,
   "metadata": {},
   "outputs": [
    {
     "name": "stdout",
     "output_type": "stream",
     "text": [
      "Enter range of random value: 20\n",
      "Enter the number of random values to print: 5\n",
      "[18, 0, 12, 13, 9]\n"
     ]
    }
   ],
   "source": [
    "import random\n",
    "def gen_random(num_range, num_size):\n",
    "    \n",
    "    a = [random.randint(0,num_range) for i in range(num_size)]\n",
    "    print(a)\n",
    "    \n",
    "range_val = int(input(\"Enter range of random value: \"))\n",
    "size_val = int(input(\"Enter the number of random values to print: \"))\n",
    "gen_random(range_val, size_val)"
   ]
  },
  {
   "cell_type": "code",
   "execution_count": 5,
   "metadata": {},
   "outputs": [
    {
     "name": "stdout",
     "output_type": "stream",
     "text": [
      "Enter a Number: 16\n",
      "Square root of 16 is 4.0\n"
     ]
    }
   ],
   "source": [
    "from math import sqrt\n",
    "\n",
    "def get_sqrt(num):\n",
    "    return print(\"Square root of \" + str(num) + \" is \" + str(sqrt(num)))\n",
    "\n",
    "user_input = int(input(\"Enter a Number: \"))    \n",
    "get_sqrt(user_input)\n"
   ]
  },
  {
   "cell_type": "code",
   "execution_count": 12,
   "metadata": {},
   "outputs": [
    {
     "name": "stdout",
     "output_type": "stream",
     "text": [
      "Enter a Number: 3\n",
      "3 x 1 = 3\n",
      "3 x 2 = 6\n",
      "3 x 3 = 9\n",
      "3 x 4 = 12\n",
      "3 x 5 = 15\n",
      "3 x 6 = 18\n",
      "3 x 7 = 21\n",
      "3 x 8 = 24\n",
      "3 x 9 = 27\n",
      "3 x 10 = 30\n"
     ]
    }
   ],
   "source": [
    "def disp_multiplication_table(num):\n",
    "    multiply_with = [1, 2, 3, 4, 5, 6, 7, 8, 9, 10]\n",
    "    for i in multiply_with:\n",
    "        print(str(num)+ \" x \" + str(i) + \" = \" + str(num*i))\n",
    "        \n",
    "user_input = int(input(\"Enter a Number: \"))    \n",
    "disp_multiplication_table(user_input)"
   ]
  },
  {
   "cell_type": "code",
   "execution_count": null,
   "metadata": {},
   "outputs": [],
   "source": []
  }
 ],
 "metadata": {
  "kernelspec": {
   "display_name": "Python 3",
   "language": "python",
   "name": "python3"
  },
  "language_info": {
   "codemirror_mode": {
    "name": "ipython",
    "version": 3
   },
   "file_extension": ".py",
   "mimetype": "text/x-python",
   "name": "python",
   "nbconvert_exporter": "python",
   "pygments_lexer": "ipython3",
   "version": "3.7.6"
  }
 },
 "nbformat": 4,
 "nbformat_minor": 4
}
