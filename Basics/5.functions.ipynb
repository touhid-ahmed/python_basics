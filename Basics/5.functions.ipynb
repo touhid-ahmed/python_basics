{
 "cells": [
  {
   "cell_type": "markdown",
   "metadata": {},
   "source": [
    "### **Functions**"
   ]
  },
  {
   "cell_type": "code",
   "execution_count": 1,
   "metadata": {},
   "outputs": [
    {
     "name": "stdout",
     "output_type": "stream",
     "text": [
      "Adding 5 with 6 gives 11!\n",
      "Adding 55 with 70 gives 125!\n"
     ]
    }
   ],
   "source": [
    "def add_two_num(x,y):\n",
    "    return print(\"Adding \" + str(x) + \" with \" + str(y) + \" gives \" + str(x+y) + \"!\")\n",
    "\n",
    "add_two_num(5,6)\n",
    "add_two_num(55, 70)"
   ]
  },
  {
   "cell_type": "code",
   "execution_count": 5,
   "metadata": {},
   "outputs": [
    {
     "name": "stdout",
     "output_type": "stream",
     "text": [
      "Greatest number is: 151\n"
     ]
    }
   ],
   "source": [
    "def largest_among_three(x,y,z):\n",
    "#     greatest_number = 0\n",
    "    if x > y and x > z:\n",
    "        print(\"Greatest number is: \" + str(x))\n",
    "    elif y > x and y > z:\n",
    "        print(\"Greatest number is: \" + str(y))\n",
    "    else:\n",
    "        print(\"Greatest number is: \" + str(z))\n",
    "\n",
    "largest_among_three(20,151,102)"
   ]
  },
  {
   "cell_type": "code",
   "execution_count": 2,
   "metadata": {},
   "outputs": [
    {
     "name": "stdout",
     "output_type": "stream",
     "text": [
      "Total after adding the elements in the list: 28\n"
     ]
    }
   ],
   "source": [
    "def sum_of_a_list(a_list):\n",
    "    final = 0\n",
    "    for i in a_list:\n",
    "        final = i + final\n",
    "    return print(\"Total after adding the elements in the list: \" + str(final))\n",
    "\n",
    "my_list = [1,2,3,4,5,6,7]\n",
    "sum_of_a_list(my_list)"
   ]
  },
  {
   "cell_type": "code",
   "execution_count": 2,
   "metadata": {},
   "outputs": [
    {
     "name": "stdout",
     "output_type": "stream",
     "text": [
      "Enter a number: 3\n",
      "It is an odd number\n",
      "Enter a number: 2\n",
      "It is an even number\n",
      "Enter a number: 4\n",
      "It is an even number\n",
      "Enter a number: 11\n",
      "It is an odd number\n",
      "Enter a number: q\n",
      "You have exited the program\n"
     ]
    }
   ],
   "source": [
    "def check_even(number):\n",
    "    if (number)%2==0:\n",
    "        print(\"It is an even number\")\n",
    "    else:\n",
    "        print(\"It is an odd number\")       \n",
    "\n",
    "try:\n",
    "    while True:\n",
    "        get_num = int(input(\"Enter a number: \"))\n",
    "        if get_num == 'q':\n",
    "            break\n",
    "        else:\n",
    "            check_even(get_num)\n",
    "\n",
    "except ValueError:\n",
    "    print(\"You have exited the program\")"
   ]
  },
  {
   "cell_type": "code",
   "execution_count": 12,
   "metadata": {},
   "outputs": [
    {
     "name": "stdout",
     "output_type": "stream",
     "text": [
      "Enter a number for test: 45622\n",
      "19\n"
     ]
    }
   ],
   "source": [
    "def add_numbers(number):\n",
    "    total = 0\n",
    "    number = str(number)\n",
    "    for i in number:\n",
    "        total = total + int(i)\n",
    "    print(total)\n",
    "    \n",
    "get_input = int(input(\"Enter a number for test: \"))\n",
    "add_numbers(get_input)"
   ]
  },
  {
   "cell_type": "code",
   "execution_count": 14,
   "metadata": {},
   "outputs": [
    {
     "name": "stdout",
     "output_type": "stream",
     "text": [
      "Number is negative\n",
      "Number is Positive\n",
      "Number is 0 itself\n",
      "Number is invalid\n"
     ]
    }
   ],
   "source": [
    "def check_polarity(number):\n",
    "    if type(number) != int:\n",
    "        print(\"Number is invalid\")\n",
    "    else:\n",
    "        \n",
    "        if int(number) < 0:\n",
    "            print(\"Number is negative\")\n",
    "        elif int(number) > 0:\n",
    "            print(\"Number is Positive\")\n",
    "        elif int(number) == 0:\n",
    "            print(\"Number is 0 itself\")\n",
    "        else:\n",
    "            print(\"Number not found\")\n",
    "        \n",
    "        \n",
    "check_polarity(-2)\n",
    "check_polarity(55)\n",
    "check_polarity(0)\n",
    "check_polarity(\"string\")"
   ]
  },
  {
   "cell_type": "code",
   "execution_count": 24,
   "metadata": {},
   "outputs": [
    {
     "name": "stdout",
     "output_type": "stream",
     "text": [
      "Enter a Number: 7\n",
      "5040\n"
     ]
    }
   ],
   "source": [
    "def factorial(num):\n",
    "    final = 1\n",
    "    \n",
    "    for i in range(1, num+1):\n",
    "        final = final*i\n",
    "    print(final)\n",
    "\n",
    "\n",
    "user_input = int(input(\"Enter a Number: \"))    \n",
    "factorial(user_input)"
   ]
  },
  {
   "cell_type": "code",
   "execution_count": 45,
   "metadata": {},
   "outputs": [
    {
     "name": "stdout",
     "output_type": "stream",
     "text": [
      "Enter a Number: 9\n",
      "It is not a prime number\n"
     ]
    }
   ],
   "source": [
    "def check_prime(number):\n",
    "    if int(number)>1:\n",
    "        \n",
    "        for i in range(2, number):\n",
    "            if number%i==0:\n",
    "                print(\"It is not a prime number\")\n",
    "                break\n",
    "        else:\n",
    "            print(\"It is a prime number\")\n",
    "                \n",
    "    else:\n",
    "        print(\"It is not a prime number\")\n",
    "    \n",
    "     \n",
    "user_input = int(input(\"Enter a Number: \"))    \n",
    "check_prime(user_input)"
   ]
  },
  {
   "cell_type": "code",
   "execution_count": 6,
   "metadata": {},
   "outputs": [
    {
     "name": "stdout",
     "output_type": "stream",
     "text": [
      "Enter a word: Rise\n",
      "2\n"
     ]
    }
   ],
   "source": [
    "def check_vowel(string):\n",
    "    vowel = 'AEIOUaeiou'\n",
    "    count = 0\n",
    "    for i in string:\n",
    "        if i in vowel:\n",
    "            count +=1\n",
    "    print(count)\n",
    "\n",
    "user_input = str(input(\"Enter a word: \"))    \n",
    "check_vowel(user_input)"
   ]
  },
  {
   "cell_type": "code",
   "execution_count": 19,
   "metadata": {},
   "outputs": [
    {
     "name": "stdout",
     "output_type": "stream",
     "text": [
      "Enter range of random value: 20\n",
      "Enter the number of random values to print: 5\n",
      "[18, 0, 12, 13, 9]\n"
     ]
    }
   ],
   "source": [
    "import random\n",
    "def gen_random(num_range, num_size):\n",
    "    \n",
    "    a = [random.randint(0,num_range) for i in range(num_size)]\n",
    "    print(a)\n",
    "    \n",
    "range_val = int(input(\"Enter range of random value: \"))\n",
    "size_val = int(input(\"Enter the number of random values to print: \"))\n",
    "gen_random(range_val, size_val)"
   ]
  },
  {
   "cell_type": "code",
   "execution_count": 5,
   "metadata": {},
   "outputs": [
    {
     "name": "stdout",
     "output_type": "stream",
     "text": [
      "Enter a Number: 16\n",
      "Square root of 16 is 4.0\n"
     ]
    }
   ],
   "source": [
    "from math import sqrt\n",
    "\n",
    "def get_sqrt(num):\n",
    "    return print(\"Square root of \" + str(num) + \" is \" + str(sqrt(num)))\n",
    "\n",
    "user_input = int(input(\"Enter a Number: \"))    \n",
    "get_sqrt(user_input)\n"
   ]
  },
  {
   "cell_type": "code",
   "execution_count": 5,
   "metadata": {},
   "outputs": [
    {
     "name": "stdout",
     "output_type": "stream",
     "text": [
      "Enter a Number: 7\n",
      "Fibonacci Sequence:\n",
      "0\n",
      "1\n",
      "1\n",
      "2\n",
      "3\n",
      "5\n",
      "8\n"
     ]
    }
   ],
   "source": [
    "def get_fibonacci(number):\n",
    "    n1 = 0\n",
    "    n2 = 1\n",
    "    count = 0\n",
    "    if number <= 0:\n",
    "        print(\"Enter a positive number\")\n",
    "    elif number==1:\n",
    "        print(\"Fibonacci Sequence for this number is: \", n1)\n",
    "    else:\n",
    "        print(\"Fibonacci Sequence:\")\n",
    "        while count<number:\n",
    "            print(n1)\n",
    "            nth = n1 + n2\n",
    "            n1, n2 = n2, nth\n",
    "            count+=1\n",
    "user_input = int(input(\"Enter a Number: \"))\n",
    "get_fibonacci(user_input)"
   ]
  },
  {
   "cell_type": "code",
   "execution_count": 1,
   "metadata": {},
   "outputs": [
    {
     "name": "stdout",
     "output_type": "stream",
     "text": [
      "olleh\n"
     ]
    }
   ],
   "source": [
    "def reverse_string(string):\n",
    "    new = \"\"\n",
    "    for i in range(0, len(string)):\n",
    "        new = string[::-1]\n",
    "    print(new)\n",
    "\n",
    "reverse_string(\"hello\")"
   ]
  },
  {
   "cell_type": "code",
   "execution_count": 56,
   "metadata": {},
   "outputs": [
    {
     "name": "stdout",
     "output_type": "stream",
     "text": [
      "Enter a sentence: Hello guys this is an idiot here\n",
      "Enter the word to censor: idiot\n",
      "Hello guys this is an ***** here\n"
     ]
    }
   ],
   "source": [
    "def censor_word(sentence, word):\n",
    "    found = False\n",
    "    temp = sentence.split()\n",
    "    for i in range(len(temp)):\n",
    "        if word == temp[i]:\n",
    "            found = True\n",
    "            j = len(word)*\"*\"\n",
    "            temp[i] = j\n",
    "            result = \" \".join(temp)\n",
    "    if found == True:\n",
    "        return print(result)\n",
    "    else:\n",
    "        print(\"word not found\")\n",
    "                  \n",
    "get_sentence = input(\"Enter a sentence: \")\n",
    "get_word = input(\"Enter the word to censor: \")\n",
    "            \n",
    "censor_word(get_sentence, get_word)"
   ]
  },
  {
   "cell_type": "code",
   "execution_count": 7,
   "metadata": {},
   "outputs": [
    {
     "name": "stdout",
     "output_type": "stream",
     "text": [
      "Enter a sentence: bibbidy Bobiddy bobiddy bop\n",
      "Enter the word to of recurrance: bobiddy\n",
      "The word bobiddy occured: 2 times.\n"
     ]
    }
   ],
   "source": [
    "def recur(sequence, item):\n",
    "    count = 0\n",
    "    sequence = sequence.lower()\n",
    "    item = item.lower()\n",
    "    for i in sequence.split():\n",
    "        if i == item:\n",
    "            count+=1\n",
    "    print(\"The word \"+ str(item)+ \" occured: \"+ str(count)+\" times.\")\n",
    "\n",
    "get_sentence = input(\"Enter a sentence: \")\n",
    "get_word = input(\"Enter the word to of recurrance: \")\n",
    "            \n",
    "recur(get_sentence, get_word)"
   ]
  },
  {
   "cell_type": "code",
   "execution_count": 2,
   "metadata": {},
   "outputs": [
    {
     "name": "stdout",
     "output_type": "stream",
     "text": [
      "[1, 2, 3, 4, 5]\n"
     ]
    }
   ],
   "source": [
    "def remove_duplicate(the_list):\n",
    "    \n",
    "    result = []\n",
    "    \n",
    "    for i in the_list:\n",
    "        if i not in result:\n",
    "            result.append(i)\n",
    "    print(result)\n",
    "    \n",
    "    \n",
    "remove_duplicate([1,2,2,3,3,4,5])"
   ]
  },
  {
   "cell_type": "code",
   "execution_count": null,
   "metadata": {},
   "outputs": [],
   "source": []
  }
 ],
 "metadata": {
  "kernelspec": {
   "display_name": "Python 3",
   "language": "python",
   "name": "python3"
  },
  "language_info": {
   "codemirror_mode": {
    "name": "ipython",
    "version": 3
   },
   "file_extension": ".py",
   "mimetype": "text/x-python",
   "name": "python",
   "nbconvert_exporter": "python",
   "pygments_lexer": "ipython3",
   "version": "3.7.6"
  }
 },
 "nbformat": 4,
 "nbformat_minor": 4
}
