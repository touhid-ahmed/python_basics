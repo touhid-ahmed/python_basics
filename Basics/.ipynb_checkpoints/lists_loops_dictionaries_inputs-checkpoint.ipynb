{
 "cells": [
  {
   "cell_type": "code",
   "execution_count": 1,
   "metadata": {},
   "outputs": [
    {
     "name": "stdout",
     "output_type": "stream",
     "text": [
      "40\n"
     ]
    }
   ],
   "source": [
    "# Get max value\n",
    "\n",
    "my_list = [12, 1, 2, 40, 22, 10]\n",
    "\n",
    "max_val = max(my_list)\n",
    "\n",
    "print(max_val)"
   ]
  },
  {
   "cell_type": "code",
   "execution_count": 2,
   "metadata": {},
   "outputs": [
    {
     "name": "stdout",
     "output_type": "stream",
     "text": [
      "1\n"
     ]
    }
   ],
   "source": [
    "# Get min value\n",
    "\n",
    "my_list = [12, 1, 2, 40, 22, 10]\n",
    "\n",
    "min_val = min(my_list)\n",
    "\n",
    "print(min_val)"
   ]
  },
  {
   "cell_type": "code",
   "execution_count": 2,
   "metadata": {},
   "outputs": [
    {
     "name": "stdout",
     "output_type": "stream",
     "text": [
      "['This', 'is', 'a', 'string', 'to', 'be', 'converted', 'to', 'a', 'list']\n"
     ]
    }
   ],
   "source": [
    "# Convert a string to a list\n",
    "\n",
    "my_str = \"This is a string to be converted to a list\"\n",
    "\n",
    "print(my_str.split())\n"
   ]
  },
  {
   "cell_type": "code",
   "execution_count": 15,
   "metadata": {},
   "outputs": [
    {
     "name": "stdout",
     "output_type": "stream",
     "text": [
      "<class 'list'>\n"
     ]
    }
   ],
   "source": [
    "# Data type ==> list\n",
    "\n",
    "my_str = \"This is a string to be converted to a list\"\n",
    "\n",
    "to_list = my_str.split()\n",
    "\n",
    "print(type(to_list))"
   ]
  },
  {
   "cell_type": "code",
   "execution_count": 3,
   "metadata": {},
   "outputs": [
    {
     "name": "stdout",
     "output_type": "stream",
     "text": [
      "third\n"
     ]
    }
   ],
   "source": [
    "# Accessing list element\n",
    "\n",
    "my_list = ['first', 'second', 'third', 'fourth']\n",
    "\n",
    "print(my_list[2])"
   ]
  },
  {
   "cell_type": "code",
   "execution_count": 4,
   "metadata": {},
   "outputs": [
    {
     "name": "stdout",
     "output_type": "stream",
     "text": [
      "First\n",
      "Second\n",
      "Third\n",
      "Fourth\n"
     ]
    }
   ],
   "source": [
    "# Loops : for, while\n",
    "\n",
    "# Using for loop\n",
    "\n",
    "my_list = ['first', 'second', 'third', 'fourth']\n",
    "\n",
    "for item in my_list:\n",
    "    print (item.title())\n",
    "\n",
    "    "
   ]
  },
  {
   "cell_type": "code",
   "execution_count": 6,
   "metadata": {},
   "outputs": [
    {
     "name": "stdout",
     "output_type": "stream",
     "text": [
      "0\n",
      "1\n",
      "2\n",
      "3\n",
      "4\n"
     ]
    }
   ],
   "source": [
    "# Using While loop\n",
    "\n",
    "i = 0\n",
    "while i < 5:\n",
    "    print(i)\n",
    "    i+=1\n",
    "    "
   ]
  },
  {
   "cell_type": "code",
   "execution_count": 7,
   "metadata": {},
   "outputs": [
    {
     "name": "stdout",
     "output_type": "stream",
     "text": [
      "['first', 'second', 'Blue', 'fourth', 'fifth', 'sixth']\n"
     ]
    }
   ],
   "source": [
    "# Replacing an item in the list\n",
    "\n",
    "my_list = ['first', 'second', 'third', 'fourth', 'fifth', 'sixth']\n",
    "\n",
    "my_list[2] = \"Blue\"\n",
    "\n",
    "print(my_list)\n"
   ]
  },
  {
   "cell_type": "code",
   "execution_count": 11,
   "metadata": {},
   "outputs": [
    {
     "name": "stdout",
     "output_type": "stream",
     "text": [
      "0\n",
      "1\n",
      "2\n",
      "3\n",
      "4\n"
     ]
    }
   ],
   "source": [
    "# Range function\n",
    "\n",
    "for i  in range(0,5):\n",
    "    print(i)"
   ]
  },
  {
   "cell_type": "code",
   "execution_count": 13,
   "metadata": {},
   "outputs": [
    {
     "name": "stdout",
     "output_type": "stream",
     "text": [
      "['first']\n",
      "['first', 'second']\n"
     ]
    }
   ],
   "source": [
    "# Adding items to a list using the append method\n",
    "\n",
    "empty_list = []\n",
    "\n",
    "empty_list.append('first')\n",
    "print(empty_list)\n",
    "\n",
    "empty_list.append('second')\n",
    "print(empty_list)"
   ]
  },
  {
   "cell_type": "code",
   "execution_count": 14,
   "metadata": {},
   "outputs": [
    {
     "name": "stdout",
     "output_type": "stream",
     "text": [
      "[0, 1, 2, 3, 4, 5, 6, 7, 8, 9]\n"
     ]
    }
   ],
   "source": [
    "# Adding items to an empty list continiously using a for loop\n",
    "\n",
    "empty_list = []\n",
    "\n",
    "for i in range(0,10):\n",
    "    empty_list.append(i)\n",
    "\n",
    "print(empty_list)"
   ]
  },
  {
   "cell_type": "code",
   "execution_count": 16,
   "metadata": {},
   "outputs": [
    {
     "name": "stdout",
     "output_type": "stream",
     "text": [
      "sixth\n"
     ]
    }
   ],
   "source": [
    "# Pop\n",
    "\n",
    "my_list = ['first', 'second', 'third', 'fourth', 'fifth', 'sixth']\n",
    "\n",
    "popped_item = my_list.pop()\n",
    "\n",
    "print(popped_item)"
   ]
  },
  {
   "cell_type": "code",
   "execution_count": 18,
   "metadata": {},
   "outputs": [
    {
     "name": "stdout",
     "output_type": "stream",
     "text": [
      "['first', 'second', 'third', 'fourth', 'fifth', 'sixth', 'seventh']\n"
     ]
    }
   ],
   "source": [
    "#Insert method\n",
    "\n",
    "my_list = ['first', 'second', 'third', 'fourth', 'fifth', 'sixth']\n",
    "\n",
    "my_list.insert(6, \"seventh\")\n",
    "\n",
    "print(my_list)"
   ]
  },
  {
   "cell_type": "code",
   "execution_count": 22,
   "metadata": {},
   "outputs": [
    {
     "name": "stdout",
     "output_type": "stream",
     "text": [
      "1\n"
     ]
    }
   ],
   "source": [
    "# Index method\n",
    "\n",
    "my_list = ['first', 'second', 'third', 'fourth', 'fifth', 'sixth']\n",
    "\n",
    "check_index_of_an_item = my_list.index(\"second\")\n",
    "\n",
    "print(check_index_of_an_item)\n"
   ]
  },
  {
   "cell_type": "code",
   "execution_count": 23,
   "metadata": {},
   "outputs": [
    {
     "name": "stdout",
     "output_type": "stream",
     "text": [
      "['first', 'third', 'fourth', 'fifth', 'sixth']\n"
     ]
    }
   ],
   "source": [
    "# Remove method\n",
    "\n",
    "my_list = ['first', 'second', 'third', 'fourth', 'fifth', 'sixth']\n",
    "\n",
    "my_list.remove(\"second\")\n",
    "\n",
    "print(my_list)\n",
    "\n"
   ]
  },
  {
   "cell_type": "code",
   "execution_count": 35,
   "metadata": {},
   "outputs": [
    {
     "name": "stdout",
     "output_type": "stream",
     "text": [
      "[1, 2, 10, 12, 22, 40]\n"
     ]
    }
   ],
   "source": [
    "#Sorting a list (Permanently)\n",
    "\n",
    "my_list = [12, 1, 2, 40, 22, 10]\n",
    "\n",
    "my_list.sort()\n",
    "\n",
    "print(my_list)"
   ]
  },
  {
   "cell_type": "code",
   "execution_count": 31,
   "metadata": {},
   "outputs": [
    {
     "name": "stdout",
     "output_type": "stream",
     "text": [
      "[40, 22, 12, 10, 2, 1]\n"
     ]
    }
   ],
   "source": [
    "#Sorting a list (Temporarily)\n",
    "\n",
    "my_list = [12, 1, 2, 40, 22, 10]\n",
    "\n",
    "sort_list = sorted(my_list)\n",
    "\n",
    "print(sort_list)\n"
   ]
  },
  {
   "cell_type": "code",
   "execution_count": 46,
   "metadata": {},
   "outputs": [
    {
     "name": "stdout",
     "output_type": "stream",
     "text": [
      "[10, 22, 40, 2, 1, 12]\n"
     ]
    }
   ],
   "source": [
    "# Reversing a list\n",
    "\n",
    "my_list = [12, 1, 2, 40, 22, 10]\n",
    "\n",
    "my_list.sort(reverse=True)\n",
    "\n",
    "print(my_list)"
   ]
  },
  {
   "cell_type": "code",
   "execution_count": 47,
   "metadata": {},
   "outputs": [
    {
     "name": "stdout",
     "output_type": "stream",
     "text": [
      "[40, 22, 12, 10, 2, 1]\n"
     ]
    }
   ],
   "source": [
    "# Sorting a list (in Reverse)\n",
    "\n",
    "my_list = [12, 1, 2, 40, 22, 10]\n",
    "\n",
    "reverse_list = my_list.reverse()\n",
    "\n",
    "print(my_list)"
   ]
  },
  {
   "cell_type": "code",
   "execution_count": 5,
   "metadata": {},
   "outputs": [
    {
     "name": "stdout",
     "output_type": "stream",
     "text": [
      "{'first_key': 1, 'second_key': 2, 'third_key': 3}\n"
     ]
    }
   ],
   "source": [
    "#Dictionaries\n",
    "\n",
    "\"\"\"Create a dictionary with a key-value pair\"\"\"\n",
    "\n",
    "my_dict = {'first_key':1, 'second_key':2, 'third_key':3}\n",
    "\n",
    "print(my_dict)"
   ]
  },
  {
   "cell_type": "code",
   "execution_count": 1,
   "metadata": {},
   "outputs": [
    {
     "name": "stdout",
     "output_type": "stream",
     "text": [
      "<class 'dict'>\n"
     ]
    }
   ],
   "source": [
    "# Dictionary type\n",
    "\n",
    "my_dict = {'first_key':1, 'second_key':2, 'third_key':3}\n",
    "\n",
    "print(type(my_dict))"
   ]
  },
  {
   "cell_type": "code",
   "execution_count": 6,
   "metadata": {},
   "outputs": [
    {
     "name": "stdout",
     "output_type": "stream",
     "text": [
      "2\n"
     ]
    }
   ],
   "source": [
    "# Access a single element in the dictionary (key)\n",
    "\n",
    "my_dict = {'first_key':1, 'second_key':2, 'third_key':3}\n",
    "\n",
    "print(my_dict['second_key'])"
   ]
  },
  {
   "cell_type": "code",
   "execution_count": 14,
   "metadata": {},
   "outputs": [
    {
     "name": "stdout",
     "output_type": "stream",
     "text": [
      "first_key\n",
      "second_key\n",
      "third_key\n",
      "\n",
      "----------------------\n",
      "1\n",
      "2\n",
      "3\n"
     ]
    }
   ],
   "source": [
    "#Access all the elements (key or value) using a for loop\n",
    "\n",
    "my_dict = {'first_key':1, 'second_key':2, 'third_key':3}\n",
    "\n",
    "for key in my_dict:\n",
    "    print(key)\n",
    "\n",
    "print(\"\\n----------------------\")\n",
    "    \n",
    "for value in my_dict:\n",
    "    print(my_dict[value])"
   ]
  },
  {
   "cell_type": "code",
   "execution_count": 15,
   "metadata": {},
   "outputs": [
    {
     "name": "stdout",
     "output_type": "stream",
     "text": [
      "first_key 1\n",
      "second_key 2\n",
      "third_key 3\n"
     ]
    }
   ],
   "source": [
    "# Alternate Method: Using the .items and .keys method\n",
    "\n",
    "my_dict = {'first_key':1, 'second_key':2, 'third_key':3}\n",
    "\n",
    "for key, value in my_dict.items():\n",
    "    print(key, value)\n"
   ]
  },
  {
   "cell_type": "code",
   "execution_count": 16,
   "metadata": {},
   "outputs": [
    {
     "name": "stdout",
     "output_type": "stream",
     "text": [
      "{'first_key': 7, 'second_key': 2, 'third_key': 3}\n"
     ]
    }
   ],
   "source": [
    "# Changing a value in Dictionary\n",
    "\n",
    "my_dict = {'first_key':1, 'second_key':2, 'third_key':3}\n",
    "\n",
    "my_dict['first_key'] = 7\n",
    "\n",
    "print(my_dict)"
   ]
  },
  {
   "cell_type": "code",
   "execution_count": 17,
   "metadata": {},
   "outputs": [
    {
     "data": {
      "text/plain": [
       "{'first_key': 1, 'second_key': 2, 'third_key': 3, 'fourth_key': 4}"
      ]
     },
     "execution_count": 17,
     "metadata": {},
     "output_type": "execute_result"
    }
   ],
   "source": [
    "# Adding a key:value pair to the dictionary\n",
    "\n",
    "my_dict = {'first_key':1, 'second_key':2, 'third_key':3}\n",
    "\n",
    "my_dict['fourth_key'] = 4\n",
    "\n",
    "print(my_dict)"
   ]
  },
  {
   "cell_type": "code",
   "execution_count": 19,
   "metadata": {},
   "outputs": [
    {
     "name": "stdout",
     "output_type": "stream",
     "text": [
      "{'first_key': 1, 'third_key': 3}\n"
     ]
    }
   ],
   "source": [
    "# Removing a key:value pair from the dictionary\n",
    "\n",
    "my_dict = {'first_key':1, 'second_key':2, 'third_key':3}\n",
    "\n",
    "del(my_dict['second_key'])\n",
    "\n",
    "print(my_dict)"
   ]
  },
  {
   "cell_type": "code",
   "execution_count": 12,
   "metadata": {},
   "outputs": [
    {
     "name": "stdout",
     "output_type": "stream",
     "text": [
      "{0: 0, 1: 1, 2: 2, 3: 3, 4: 4, 5: 5, 6: 6, 7: 7, 8: 8, 9: 9}\n"
     ]
    }
   ],
   "source": [
    "#Adding multiple key-value to dictionary using a while loop\n",
    "\n",
    "my_dict = {}\n",
    "\n",
    "key = 0\n",
    "value = 0\n",
    "\n",
    "while key< 10:\n",
    "    my_dict[key] = value\n",
    "    key+=1\n",
    "    value+=1\n",
    "    \n",
    "print(my_dict)"
   ]
  },
  {
   "cell_type": "code",
   "execution_count": 14,
   "metadata": {},
   "outputs": [
    {
     "name": "stdout",
     "output_type": "stream",
     "text": [
      "Hello!\n",
      "You have entered: Hello!\n"
     ]
    }
   ],
   "source": [
    "# Taking input from a user\n",
    "\n",
    "user_input = input()\n",
    "print(\"You have entered:\", user_input)"
   ]
  },
  {
   "cell_type": "code",
   "execution_count": 15,
   "metadata": {},
   "outputs": [
    {
     "name": "stdout",
     "output_type": "stream",
     "text": [
      "Hello User, Please enter your name in order to proceed: touhid ahmed\n",
      "Touhid Ahmed\n"
     ]
    }
   ],
   "source": [
    "#Using a prompt for displaying a large message\n",
    "\n",
    "prompt = \"Hello User, Please enter your name in order to proceed: \"\n",
    "\n",
    "user_input = input(prompt)\n",
    "\n",
    "print(user_input.title())"
   ]
  },
  {
   "cell_type": "code",
   "execution_count": 26,
   "metadata": {},
   "outputs": [
    {
     "name": "stdout",
     "output_type": "stream",
     "text": [
      "Hello User, Please enter your name in order to proceed, Press q to exit: Benjamin\n",
      "Hello User, Please enter your name in order to proceed, Press q to exit: Fox\n",
      "Hello User, Please enter your name in order to proceed, Press q to exit: q\n"
     ]
    }
   ],
   "source": [
    "# keep taking input until a trigger condition\n",
    "prompt = \"Hello User, Please enter your name in order to proceed, Press q to exit: \"\n",
    "user_input = input(prompt)\n",
    "\n",
    "while not user_input == 'q':\n",
    "    user_input = input(prompt)    "
   ]
  },
  {
   "cell_type": "code",
   "execution_count": 27,
   "metadata": {},
   "outputs": [
    {
     "name": "stdout",
     "output_type": "stream",
     "text": [
      "Hello User, Please enter your name in order to proceed: Touhid Ahmed\n",
      "['Touhid', 'Ahmed']\n"
     ]
    }
   ],
   "source": [
    "# Take input and save it as a list\n",
    "\n",
    "prompt = \"Hello User, Please enter your name in order to proceed: \"\n",
    "\n",
    "user_input = input(prompt).split()\n",
    "\n",
    "print(user_input)"
   ]
  }
 ],
 "metadata": {
  "kernelspec": {
   "display_name": "Python 3",
   "language": "python",
   "name": "python3"
  },
  "language_info": {
   "codemirror_mode": {
    "name": "ipython",
    "version": 3
   },
   "file_extension": ".py",
   "mimetype": "text/x-python",
   "name": "python",
   "nbconvert_exporter": "python",
   "pygments_lexer": "ipython3",
   "version": "3.7.6"
  }
 },
 "nbformat": 4,
 "nbformat_minor": 4
}
