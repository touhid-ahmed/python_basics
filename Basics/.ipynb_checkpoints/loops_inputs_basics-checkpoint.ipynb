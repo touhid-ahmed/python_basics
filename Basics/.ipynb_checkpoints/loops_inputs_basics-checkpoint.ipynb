{
 "cells": [
  {
   "cell_type": "code",
   "execution_count": 6,
   "metadata": {},
   "outputs": [
    {
     "name": "stdout",
     "output_type": "stream",
     "text": [
      "0\n",
      "1\n",
      "2\n",
      "3\n",
      "4\n"
     ]
    }
   ],
   "source": [
    "# Using While loop\n",
    "\n",
    "i = 0\n",
    "while i < 5:\n",
    "    print(i)\n",
    "    i+=1\n",
    "    "
   ]
  },
  {
   "cell_type": "code",
   "execution_count": 11,
   "metadata": {},
   "outputs": [
    {
     "name": "stdout",
     "output_type": "stream",
     "text": [
      "0\n",
      "1\n",
      "2\n",
      "3\n",
      "4\n"
     ]
    }
   ],
   "source": [
    "# Range function\n",
    "\n",
    "for i  in range(0,5):\n",
    "    print(i)"
   ]
  },
  {
   "cell_type": "code",
   "execution_count": 14,
   "metadata": {},
   "outputs": [
    {
     "name": "stdout",
     "output_type": "stream",
     "text": [
      "Hello!\n",
      "You have entered: Hello!\n"
     ]
    }
   ],
   "source": [
    "# Taking input from a user\n",
    "\n",
    "user_input = input()\n",
    "print(\"You have entered:\", user_input)"
   ]
  },
  {
   "cell_type": "code",
   "execution_count": 15,
   "metadata": {},
   "outputs": [
    {
     "name": "stdout",
     "output_type": "stream",
     "text": [
      "Hello User, Please enter your name in order to proceed: touhid ahmed\n",
      "Touhid Ahmed\n"
     ]
    }
   ],
   "source": [
    "#Using a prompt for displaying a large message\n",
    "\n",
    "prompt = \"Hello User, Please enter your name in order to proceed: \"\n",
    "\n",
    "user_input = input(prompt)\n",
    "\n",
    "print(user_input.title())"
   ]
  },
  {
   "cell_type": "code",
   "execution_count": 26,
   "metadata": {},
   "outputs": [
    {
     "name": "stdout",
     "output_type": "stream",
     "text": [
      "Hello User, Please enter your name in order to proceed, Press q to exit: Benjamin\n",
      "Hello User, Please enter your name in order to proceed, Press q to exit: Fox\n",
      "Hello User, Please enter your name in order to proceed, Press q to exit: q\n"
     ]
    }
   ],
   "source": [
    "# keep taking input until a trigger condition\n",
    "prompt = \"Hello User, Please enter your name in order to proceed, Press q to exit: \"\n",
    "user_input = input(prompt)\n",
    "\n",
    "while not user_input == 'q':\n",
    "    user_input = input(prompt)    "
   ]
  },
  {
   "cell_type": "code",
   "execution_count": 27,
   "metadata": {},
   "outputs": [
    {
     "name": "stdout",
     "output_type": "stream",
     "text": [
      "Hello User, Please enter your name in order to proceed: Touhid Ahmed\n",
      "['Touhid', 'Ahmed']\n"
     ]
    }
   ],
   "source": [
    "# Take input and save it as a list\n",
    "\n",
    "prompt = \"Hello User, Please enter your name in order to proceed: \"\n",
    "\n",
    "user_input = input(prompt).split()\n",
    "\n",
    "print(user_input)"
   ]
  }
 ],
 "metadata": {
  "kernelspec": {
   "display_name": "Python 3",
   "language": "python",
   "name": "python3"
  },
  "language_info": {
   "codemirror_mode": {
    "name": "ipython",
    "version": 3
   },
   "file_extension": ".py",
   "mimetype": "text/x-python",
   "name": "python",
   "nbconvert_exporter": "python",
   "pygments_lexer": "ipython3",
   "version": "3.7.6"
  }
 },
 "nbformat": 4,
 "nbformat_minor": 4
}
