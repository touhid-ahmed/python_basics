{
 "cells": [
  {
   "cell_type": "code",
   "execution_count": 1,
   "metadata": {},
   "outputs": [
    {
     "name": "stdout",
     "output_type": "stream",
     "text": [
      "Enter a Number: 5\n",
      "5 x 1 = 5\n",
      "5 x 2 = 10\n",
      "5 x 3 = 15\n",
      "5 x 4 = 20\n",
      "5 x 5 = 25\n",
      "5 x 6 = 30\n",
      "5 x 7 = 35\n",
      "5 x 8 = 40\n",
      "5 x 9 = 45\n",
      "5 x 10 = 50\n"
     ]
    }
   ],
   "source": [
    "def disp_multiplication_table(num):\n",
    "    multiply_with = [1, 2, 3, 4, 5, 6, 7, 8, 9, 10]\n",
    "    for i in multiply_with:\n",
    "        print(str(num)+ \" x \" + str(i) + \" = \" + str(num*i))\n",
    "        \n",
    "user_input = int(input(\"Enter a Number: \"))    \n",
    "disp_multiplication_table(user_input)"
   ]
  },
  {
   "cell_type": "code",
   "execution_count": 2,
   "metadata": {},
   "outputs": [
    {
     "name": "stdout",
     "output_type": "stream",
     "text": [
      "Enter a sentence: What a wonderful day!\n",
      "{' ': 3,\n",
      " '!': 1,\n",
      " 'W': 1,\n",
      " 'a': 3,\n",
      " 'd': 2,\n",
      " 'e': 1,\n",
      " 'f': 1,\n",
      " 'h': 1,\n",
      " 'l': 1,\n",
      " 'n': 1,\n",
      " 'o': 1,\n",
      " 'r': 1,\n",
      " 't': 1,\n",
      " 'u': 1,\n",
      " 'w': 1,\n",
      " 'y': 1}\n"
     ]
    }
   ],
   "source": [
    "import pprint\n",
    "\n",
    "def sentence_analysis(message):\n",
    "    count = {}\n",
    "    for i in message:\n",
    "        count.setdefault(i, 0)\n",
    "        count[i] = count[i] + 1\n",
    "# pprint.pformat(count)\n",
    "    pprint.pprint(count)\n",
    "    \n",
    "user_input = str(input('Enter a sentence: '))\n",
    "sentence_analysis(user_input)"
   ]
  },
  {
   "cell_type": "code",
   "execution_count": 3,
   "metadata": {},
   "outputs": [
    {
     "name": "stdout",
     "output_type": "stream",
     "text": [
      "Enter your username: sid\n",
      "Enter your ID: 1011\n",
      "Welcome to Campus Session Sid!\n"
     ]
    }
   ],
   "source": [
    "def login_system():\n",
    "    \n",
    "    usr_database = {'Amanda': 1010, 'Sid': 1011}\n",
    "    \n",
    "    usr_name = input(\"Enter your username: \")\n",
    "    usr_id = int(input(\"Enter your ID: \"))\n",
    "\n",
    "    for i,j in usr_database.items():\n",
    "    \n",
    "        if usr_name.title()==i and usr_id==j:\n",
    "            print(\"Welcome to Campus Session \" + str(usr_name.title())+ \"!\")\n",
    "            break\n",
    "    else:\n",
    "        print(\"Wrong credentials, please try again!\")\n",
    "\n",
    "login_system()"
   ]
  },
  {
   "cell_type": "code",
   "execution_count": 4,
   "metadata": {},
   "outputs": [
    {
     "name": "stdout",
     "output_type": "stream",
     "text": [
      "Enter Operator Choice: a, s, m, d or q to quit: a\n",
      "Enter first number: 2\n",
      "Enter Second number: 4\n",
      "Addition: 6\n",
      "Enter Operator Choice: a, s, m, d or q to quit: q\n",
      "You have exited the program\n"
     ]
    }
   ],
   "source": [
    "def calculator(choice,x,y):\n",
    "    if choice == 'a':\n",
    "        print(\"Addition: \" +str(x+y))\n",
    "    elif choice == 's':\n",
    "        print(\"Subtraction: \" +str(x-y))\n",
    "    elif choice == 'm':\n",
    "        print(\"Multiplication: \" +str(x*y))\n",
    "    elif choice == 'd':\n",
    "        print(\"Division: \" +str(x/y))\n",
    "    else:\n",
    "        print(\"Something went wrong\")\n",
    "\n",
    "while True:\n",
    "    user_input = input(\"Enter Operator Choice: a, s, m, d or q to quit: \")\n",
    "    if user_input == 'q':\n",
    "        print(\"You have exited the program\")\n",
    "        break\n",
    "    else:\n",
    "        first_num = int(input(\"Enter first number: \"))\n",
    "        second_num = int(input(\"Enter Second number: \"))\n",
    "        calculator(user_input, first_num, second_num)"
   ]
  },
  {
   "cell_type": "code",
   "execution_count": 5,
   "metadata": {},
   "outputs": [
    {
     "name": "stdout",
     "output_type": "stream",
     "text": [
      "Enter an item to the list or press 'q' to exit: hat\n",
      "Enter an item to the list or press 'q' to exit: cat\n",
      "Enter an item to the list or press 'q' to exit: fur\n",
      "Enter an item to the list or press 'q' to exit: car\n",
      "Enter an item to the list or press 'q' to exit: q\n",
      "Enter the index to access: 2\n"
     ]
    },
    {
     "data": {
      "text/plain": [
       "'fur'"
      ]
     },
     "execution_count": 5,
     "metadata": {},
     "output_type": "execute_result"
    }
   ],
   "source": [
    "# Two functions to add items to the list and access the list\n",
    "\n",
    "def add_item_list(empty_list):\n",
    "    get_item = str(input(\"Enter an item to the list or press 'q' to exit: \"))\n",
    "    \n",
    "    while get_item != 'q':\n",
    "        empty_list.append(get_item)\n",
    "        get_item = str(input(\"Enter an item to the list or press 'q' to exit: \"))\n",
    "        \n",
    "    return empty_list\n",
    "\n",
    "def access_list(the_list, index_val):\n",
    "    \n",
    "    for index in range (0, len(the_list)):\n",
    "        if index == index_val:\n",
    "            result = the_list[index_val]\n",
    "            return result\n",
    "\n",
    "main_list = []\n",
    "\n",
    "final_list = add_item_list(main_list)\n",
    "\n",
    "get_input = int(input(\"Enter the index to access: \"))\n",
    "\n",
    "access_list(final_list, get_input)"
   ]
  },
  {
   "cell_type": "code",
   "execution_count": 12,
   "metadata": {},
   "outputs": [
    {
     "name": "stdout",
     "output_type": "stream",
     "text": [
      "--------The Inventory Contains: --------\n",
      "Sword...............                   2\n",
      "Coins...............                 600\n",
      "Arrows left.........                  50\n",
      "Dagger..............                   1\n",
      "Total items:  4\n"
     ]
    }
   ],
   "source": [
    "def dispInventory(itemdict, rwidth, lwidth):\n",
    "    print(\"The Inventory Contains: \".center(lwidth+rwidth, \"-\"))\n",
    "    total = 0\n",
    "\n",
    "    for k,v in itemdict.items():\n",
    "        \n",
    "        print(k.ljust(lwidth, \".\") + str(v).rjust(rwidth))\n",
    "        \n",
    "        total +=1\n",
    "    print(\"Total items: \", total)\n",
    "skyrim = {\"Sword\": 2, \"Coins\": 600, \"Arrows left\": 50, \"Dagger\": 1}\n",
    "\n",
    "dispInventory(skyrim, 20, 20)"
   ]
  },
  {
   "cell_type": "code",
   "execution_count": null,
   "metadata": {},
   "outputs": [],
   "source": []
  }
 ],
 "metadata": {
  "kernelspec": {
   "display_name": "Python 3",
   "language": "python",
   "name": "python3"
  },
  "language_info": {
   "codemirror_mode": {
    "name": "ipython",
    "version": 3
   },
   "file_extension": ".py",
   "mimetype": "text/x-python",
   "name": "python",
   "nbconvert_exporter": "python",
   "pygments_lexer": "ipython3",
   "version": "3.7.6"
  }
 },
 "nbformat": 4,
 "nbformat_minor": 4
}
