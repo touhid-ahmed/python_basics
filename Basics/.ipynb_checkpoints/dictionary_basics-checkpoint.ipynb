{
 "cells": [
  {
   "cell_type": "code",
   "execution_count": 1,
   "metadata": {},
   "outputs": [
    {
     "name": "stdout",
     "output_type": "stream",
     "text": [
      "{'first_key': 1, 'second_key': 2, 'third_key': 3}\n"
     ]
    }
   ],
   "source": [
    "#Dictionaries\n",
    "\n",
    "\"\"\"Create a dictionary with a key-value pair\"\"\"\n",
    "\n",
    "my_dict = {'first_key':1, 'second_key':2, 'third_key':3}\n",
    "\n",
    "print(my_dict)"
   ]
  },
  {
   "cell_type": "code",
   "execution_count": 2,
   "metadata": {},
   "outputs": [
    {
     "name": "stdout",
     "output_type": "stream",
     "text": [
      "<class 'dict'>\n"
     ]
    }
   ],
   "source": [
    "# Dictionary type\n",
    "\n",
    "my_dict = {'first_key':1, 'second_key':2, 'third_key':3}\n",
    "\n",
    "print(type(my_dict))"
   ]
  },
  {
   "cell_type": "code",
   "execution_count": 3,
   "metadata": {},
   "outputs": [
    {
     "name": "stdout",
     "output_type": "stream",
     "text": [
      "2\n"
     ]
    }
   ],
   "source": [
    "# Access a single element in the dictionary (key)\n",
    "\n",
    "my_dict = {'first_key':1, 'second_key':2, 'third_key':3}\n",
    "\n",
    "print(my_dict['second_key'])"
   ]
  },
  {
   "cell_type": "code",
   "execution_count": null,
   "metadata": {},
   "outputs": [],
   "source": []
  }
 ],
 "metadata": {
  "kernelspec": {
   "display_name": "Python 3",
   "language": "python",
   "name": "python3"
  },
  "language_info": {
   "codemirror_mode": {
    "name": "ipython",
    "version": 3
   },
   "file_extension": ".py",
   "mimetype": "text/x-python",
   "name": "python",
   "nbconvert_exporter": "python",
   "pygments_lexer": "ipython3",
   "version": "3.7.6"
  }
 },
 "nbformat": 4,
 "nbformat_minor": 4
}
