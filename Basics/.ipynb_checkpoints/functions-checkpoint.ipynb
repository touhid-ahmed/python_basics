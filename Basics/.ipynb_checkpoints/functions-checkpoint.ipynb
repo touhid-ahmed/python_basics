{
 "cells": [
  {
   "cell_type": "markdown",
   "metadata": {},
   "source": [
    "### **Functions**"
   ]
  },
  {
   "cell_type": "code",
   "execution_count": 1,
   "metadata": {},
   "outputs": [
    {
     "name": "stdout",
     "output_type": "stream",
     "text": [
      "Adding 5 with 6 gives 11!\n",
      "Adding 55 with 70 gives 125!\n"
     ]
    }
   ],
   "source": [
    "def add_two_num(x,y):\n",
    "    return print(\"Adding \" + str(x) + \" with \" + str(y) + \" gives \" + str(x+y) + \"!\")\n",
    "\n",
    "add_two_num(5,6)\n",
    "add_two_num(55, 70)"
   ]
  },
  {
   "cell_type": "code",
   "execution_count": 2,
   "metadata": {},
   "outputs": [
    {
     "name": "stdout",
     "output_type": "stream",
     "text": [
      "Total after adding the elements in the list: 28\n"
     ]
    }
   ],
   "source": [
    "def sum_of_a_list(a_list):\n",
    "    final = 0\n",
    "    for i in a_list:\n",
    "        final = i + final\n",
    "    return print(\"Total after adding the elements in the list: \" + str(final))\n",
    "\n",
    "my_list = [1,2,3,4,5,6,7]\n",
    "sum_of_a_list(my_list)"
   ]
  },
  {
   "cell_type": "code",
   "execution_count": 3,
   "metadata": {},
   "outputs": [
    {
     "name": "stdout",
     "output_type": "stream",
     "text": [
      "Enter an item to the list or press 'q' to exit: cat\n",
      "Enter an item to the list or press 'q' to exit: hat\n",
      "Enter an item to the list or press 'q' to exit: bat\n",
      "Enter an item to the list or press 'q' to exit: boy\n",
      "Enter an item to the list or press 'q' to exit: q\n",
      "['cat', 'hat', 'bat', 'boy']\n"
     ]
    }
   ],
   "source": [
    "def add_item_list(empty_list):\n",
    "    get_item = str(input(\"Enter an item to the list or press 'q' to exit: \"))\n",
    "    \n",
    "    while get_item != 'q':\n",
    "        empty_list.append(get_item)\n",
    "        get_item = str(input(\"Enter an item to the list or press 'q' to exit: \"))\n",
    "        \n",
    "    return empty_list\n",
    "\n",
    "main_list = []\n",
    "\n",
    "final_list = add_item_list(main_list)\n",
    "print(final_list)"
   ]
  },
  {
   "cell_type": "code",
   "execution_count": 5,
   "metadata": {},
   "outputs": [
    {
     "data": {
      "text/plain": [
       "'rat'"
      ]
     },
     "execution_count": 5,
     "metadata": {},
     "output_type": "execute_result"
    }
   ],
   "source": [
    "def access_list(the_list, index_val):\n",
    "    \n",
    "    for index in range (0, len(the_list)):\n",
    "        if index == index_val:\n",
    "            result = the_list[index_val]\n",
    "            return result\n",
    "\n",
    "my_list = [\"boy\", \"joy\", \"hat\", \"rat\", \"sat\"]\n",
    "        \n",
    "access_list(my_list, 3)"
   ]
  },
  {
   "cell_type": "code",
   "execution_count": 11,
   "metadata": {},
   "outputs": [
    {
     "name": "stdout",
     "output_type": "stream",
     "text": [
      "Enter a number: 3\n",
      "It is an odd number\n",
      "Enter a number: 2\n",
      "It is an even number\n",
      "Enter a number: 4\n",
      "It is an even number\n",
      "Enter a number: 11\n",
      "It is an odd number\n",
      "Enter a number: q\n",
      "You have exited the program\n"
     ]
    }
   ],
   "source": [
    "def check_even(number):\n",
    "    if (number)%2==0:\n",
    "        print(\"It is an even number\")\n",
    "    else:\n",
    "        print(\"It is an odd number\")       \n",
    "\n",
    "try:\n",
    "    while get_num != 'q':\n",
    "        get_num = int(input(\"Enter a number: \"))\n",
    "        check_even(get_num)\n",
    "\n",
    "except ValueError:\n",
    "    print(\"You have exited the program\")\n",
    "    \n"
   ]
  },
  {
   "cell_type": "code",
   "execution_count": null,
   "metadata": {},
   "outputs": [],
   "source": []
  }
 ],
 "metadata": {
  "kernelspec": {
   "display_name": "Python 3",
   "language": "python",
   "name": "python3"
  },
  "language_info": {
   "codemirror_mode": {
    "name": "ipython",
    "version": 3
   },
   "file_extension": ".py",
   "mimetype": "text/x-python",
   "name": "python",
   "nbconvert_exporter": "python",
   "pygments_lexer": "ipython3",
   "version": "3.7.6"
  }
 },
 "nbformat": 4,
 "nbformat_minor": 4
}
