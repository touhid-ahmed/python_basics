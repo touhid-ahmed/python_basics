{
 "cells": [
  {
   "cell_type": "code",
   "execution_count": 5,
   "metadata": {},
   "outputs": [
    {
     "name": "stdout",
     "output_type": "stream",
     "text": [
      "Hello world\n",
      "\n",
      "This is a new line\n",
      "\n",
      "\tThis is an indented line\n"
     ]
    }
   ],
   "source": [
    "\"\"\"Adding Comment\"\"\"\n",
    "\n",
    "# Using print Statement\n",
    "\n",
    "print(\"Hello world\")\n",
    "\n",
    "print(\"\\nThis is a new line\")\n",
    "\n",
    "print(\"\\n\\tThis is an indented line\")"
   ]
  },
  {
   "cell_type": "code",
   "execution_count": 8,
   "metadata": {},
   "outputs": [
    {
     "name": "stdout",
     "output_type": "stream",
     "text": [
      "<class 'str'>\n",
      "<class 'int'>\n",
      "<class 'float'>\n"
     ]
    }
   ],
   "source": [
    "# Data types\n",
    "\n",
    "a = \"A String\"\n",
    "b = 3\n",
    "c = 3.25\n",
    "\n",
    "print(type(a))\n",
    "print(type(b))\n",
    "print(type(c))\n"
   ]
  },
  {
   "cell_type": "code",
   "execution_count": 12,
   "metadata": {},
   "outputs": [
    {
     "name": "stdout",
     "output_type": "stream",
     "text": [
      "<class 'int'>\n",
      "<class 'str'>\n",
      "<class 'float'>\n"
     ]
    }
   ],
   "source": [
    "#Convert Data type\n",
    "\n",
    "a = 2\n",
    "print(type(a))\n",
    "\n",
    "b = str(a)\n",
    "print(type(b))\n",
    "\n",
    "c = float(a)\n",
    "print(type(c))\n"
   ]
  },
  {
   "cell_type": "code",
   "execution_count": 15,
   "metadata": {},
   "outputs": [
    {
     "name": "stdout",
     "output_type": "stream",
     "text": [
      "Sum: 5\n",
      "Subtraction: 1\n",
      "Multiplication: 6\n",
      "Division: 1.5\n",
      "Exponentiation: 8\n"
     ]
    }
   ],
   "source": [
    "#Using arithmetic operators ( +, - , * , /, %)\n",
    "\n",
    "x = 2\n",
    "y = 3\n",
    "add = x + y\n",
    "subtract = y - x\n",
    "product = x * y\n",
    "divide = 3/2 \n",
    "exponentiation = x**y\n",
    "print(\"Sum: \" + str(add) + \"\\nSubtraction: \" + str(subtract) + \"\\nMultiplication: \" + str(product) + \"\\nDivision: \" + str(divide))\n",
    "print(\"Exponentiation: \" + str(exponentiation))"
   ]
  },
  {
   "cell_type": "code",
   "execution_count": 14,
   "metadata": {},
   "outputs": [
    {
     "name": "stdout",
     "output_type": "stream",
     "text": [
      "b is greater than a\n"
     ]
    }
   ],
   "source": [
    "# Using comparison operators with logical operators ( > , < , ==, !=, >=, <=)\n",
    "\n",
    "a = 2\n",
    "b = 3\n",
    "\n",
    "if a > b:\n",
    "    print (\"a is greater than b\")\n",
    "else:\n",
    "    print (\"b is greater than a\")"
   ]
  },
  {
   "cell_type": "code",
   "execution_count": 39,
   "metadata": {},
   "outputs": [
    {
     "name": "stdout",
     "output_type": "stream",
     "text": [
      " Hello World \n",
      " hello world \n",
      " HELLO WORLD \n",
      " hello world \n",
      "Hello World\n",
      "Hello World \n",
      " Hello World\n",
      " hELLO wORLD \n",
      "13\n",
      "3\n",
      " Hello Touhid \n"
     ]
    }
   ],
   "source": [
    "#String methods\n",
    "\n",
    "text = \" Hello World \"\n",
    "\n",
    "print(text.title())\n",
    "\n",
    "print(text.capitalize())\n",
    "\n",
    "print(text.upper())\n",
    "\n",
    "print(text.lower())\n",
    "\n",
    "print(text.strip())\n",
    "\n",
    "print(text.lstrip())\n",
    "\n",
    "print(text.rstrip())\n",
    "\n",
    "print(text.swapcase())\n",
    "\n",
    "print(len(text))\n",
    "\n",
    "print(text.count(\"l\", 0, len(text)))\n",
    "\n",
    "print(text.replace(\"World\", \"Touhid\", 1))\n"
   ]
  },
  {
   "cell_type": "code",
   "execution_count": 42,
   "metadata": {},
   "outputs": [
    {
     "name": "stdout",
     "output_type": "stream",
     "text": [
      "False\n",
      "True\n",
      "0\n",
      "1\n"
     ]
    }
   ],
   "source": [
    "# Booleans\n",
    "\n",
    "a = 1\n",
    "\n",
    "b = 0\n",
    "\n",
    "print(a == b)\n",
    "\n",
    "print(a!=b)\n",
    "\n",
    "print(a and b)\n",
    "\n",
    "print(a or b)"
   ]
  },
  {
   "cell_type": "code",
   "execution_count": 35,
   "metadata": {},
   "outputs": [
    {
     "name": "stdout",
     "output_type": "stream",
     "text": [
      "True\n",
      "True\n",
      "False\n",
      "False\n",
      "True\n"
     ]
    }
   ],
   "source": [
    "#Booleans in String methods \n",
    "\n",
    "\n",
    "txt = \"helloworld\"\n",
    "\n",
    "print(txt.isalnum())\n",
    "\n",
    "print(txt.isalpha())\n",
    "\n",
    "print(txt.isspace())\n",
    "\n",
    "print(txt.isupper())\n",
    "\n",
    "print(txt.islower())"
   ]
  },
  {
   "cell_type": "code",
   "execution_count": 55,
   "metadata": {},
   "outputs": [
    {
     "name": "stdout",
     "output_type": "stream",
     "text": [
      "o\n",
      "Procrastination\n",
      "noitanitsarcorP\n",
      "crast\n",
      "crast\n"
     ]
    }
   ],
   "source": [
    "# Accessing elements of a string\n",
    "\n",
    "word = \"Procrastination\"\n",
    "\n",
    "#Access a specific index of the string\n",
    "\n",
    "print(word[2])\n",
    "\n",
    "#Print all the index elements in the string\n",
    "\n",
    "print(word[:])\n",
    "\n",
    "# Print all the string elements in reverse\n",
    "\n",
    "print(word[::-1])\n",
    "\n",
    "# Print the string elements upto a specific index\n",
    "\n",
    "print(word[3:8])\n",
    "\n",
    "\n",
    "# Print the string elements upto a specific index in reverse\n",
    "\n",
    "print(word[-12:-7:])\n",
    "\n"
   ]
  },
  {
   "cell_type": "code",
   "execution_count": 2,
   "metadata": {},
   "outputs": [
    {
     "name": "stdout",
     "output_type": "stream",
     "text": [
      "T-h-i-s- -i-s- -a- -s-t-r-i-n-g\n"
     ]
    }
   ],
   "source": [
    "# Join function\n",
    "\n",
    "string = \"This is a string\"\n",
    "updated = \"-\".join(string)\n",
    "print(updated)"
   ]
  },
  {
   "cell_type": "code",
   "execution_count": 56,
   "metadata": {},
   "outputs": [
    {
     "name": "stdout",
     "output_type": "stream",
     "text": [
      "['This', 'is', 'a', 'string', 'to', 'be', 'converted', 'to', 'a', 'list']\n"
     ]
    }
   ],
   "source": [
    "# Convert a string to a list\n",
    "\n",
    "my_str = \"This is a string to be converted to a list\"\n",
    "\n",
    "print(my_str.split())\n"
   ]
  }
 ],
 "metadata": {
  "kernelspec": {
   "display_name": "Python 3",
   "language": "python",
   "name": "python3"
  },
  "language_info": {
   "codemirror_mode": {
    "name": "ipython",
    "version": 3
   },
   "file_extension": ".py",
   "mimetype": "text/x-python",
   "name": "python",
   "nbconvert_exporter": "python",
   "pygments_lexer": "ipython3",
   "version": "3.7.6"
  }
 },
 "nbformat": 4,
 "nbformat_minor": 4
}
