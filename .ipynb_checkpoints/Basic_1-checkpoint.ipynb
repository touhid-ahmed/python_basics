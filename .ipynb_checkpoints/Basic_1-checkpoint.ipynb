{
 "cells": [
  {
   "cell_type": "code",
   "execution_count": 3,
   "metadata": {},
   "outputs": [
    {
     "name": "stdout",
     "output_type": "stream",
     "text": [
      "Hello world\n"
     ]
    }
   ],
   "source": [
    "\"\"\"Adding Comment\"\"\"\n",
    "\n",
    "# Using print Statement\n",
    "\n",
    "print(\"Hello world\")"
   ]
  },
  {
   "cell_type": "code",
   "execution_count": 8,
   "metadata": {},
   "outputs": [
    {
     "name": "stdout",
     "output_type": "stream",
     "text": [
      "<class 'str'>\n",
      "<class 'int'>\n",
      "<class 'float'>\n"
     ]
    }
   ],
   "source": [
    "# Data types\n",
    "\n",
    "a = \"A String\"\n",
    "b = 3\n",
    "c = 3.25\n",
    "\n",
    "print(type(a))\n",
    "print(type(b))\n",
    "print(type(c))\n"
   ]
  },
  {
   "cell_type": "code",
   "execution_count": 12,
   "metadata": {},
   "outputs": [
    {
     "name": "stdout",
     "output_type": "stream",
     "text": [
      "2\n",
      "2.0\n"
     ]
    }
   ],
   "source": [
    "#Convert Data type\n",
    "\n",
    "a = 2\n",
    "b = str(a)\n",
    "c = float(a)\n",
    "print(b)\n",
    "print(c)\n"
   ]
  },
  {
   "cell_type": "code",
   "execution_count": 15,
   "metadata": {},
   "outputs": [
    {
     "name": "stdout",
     "output_type": "stream",
     "text": [
      "Sum: 5\n",
      "Subtraction: 1\n",
      "Multiplication: 6\n",
      "Division: 1.5\n",
      "Exponentiation: 8\n"
     ]
    }
   ],
   "source": [
    "#Using arithmetic operators ( +, - , * , /, %)\n",
    "\n",
    "x = 2\n",
    "y = 3\n",
    "add = x + y\n",
    "subtract = y - x\n",
    "product = x * y\n",
    "divide = 3/2 \n",
    "exponentiation = x**y\n",
    "print(\"Sum: \" + str(add) + \"\\nSubtraction: \" + str(subtract) + \"\\nMultiplication: \" + str(product) + \"\\nDivision: \" + str(divide))\n",
    "print(\"Exponentiation: \" + str(exponentiation))"
   ]
  },
  {
   "cell_type": "code",
   "execution_count": 14,
   "metadata": {},
   "outputs": [
    {
     "name": "stdout",
     "output_type": "stream",
     "text": [
      "b is greater than a\n"
     ]
    }
   ],
   "source": [
    "# Using comparison operators with logical operators ( > , < , ==, !=, >=, <=)\n",
    "\n",
    "a = 2\n",
    "b = 3\n",
    "\n",
    "if a > b:\n",
    "    print (\"a is greater than b\")\n",
    "else:\n",
    "    print (\"b is greater than a\")"
   ]
  },
  {
   "cell_type": "code",
   "execution_count": null,
   "metadata": {},
   "outputs": [],
   "source": []
  }
 ],
 "metadata": {
  "kernelspec": {
   "display_name": "Python 3",
   "language": "python",
   "name": "python3"
  },
  "language_info": {
   "codemirror_mode": {
    "name": "ipython",
    "version": 3
   },
   "file_extension": ".py",
   "mimetype": "text/x-python",
   "name": "python",
   "nbconvert_exporter": "python",
   "pygments_lexer": "ipython3",
   "version": "3.7.6"
  }
 },
 "nbformat": 4,
 "nbformat_minor": 4
}
