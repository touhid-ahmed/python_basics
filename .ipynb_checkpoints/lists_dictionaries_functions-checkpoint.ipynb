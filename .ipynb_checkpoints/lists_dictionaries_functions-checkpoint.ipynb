{
 "cells": [
  {
   "cell_type": "code",
   "execution_count": 2,
   "metadata": {},
   "outputs": [
    {
     "name": "stdout",
     "output_type": "stream",
     "text": [
      "['This', 'is', 'a', 'string', 'to', 'be', 'converted', 'to', 'a', 'list']\n"
     ]
    }
   ],
   "source": [
    "# Convert a string to a list\n",
    "\n",
    "my_str = \"This is a string to be converted to a list\"\n",
    "\n",
    "print(my_str.split())\n"
   ]
  },
  {
   "cell_type": "code",
   "execution_count": 15,
   "metadata": {},
   "outputs": [
    {
     "name": "stdout",
     "output_type": "stream",
     "text": [
      "<class 'list'>\n"
     ]
    }
   ],
   "source": [
    "# Data type ==> list\n",
    "\n",
    "my_str = \"This is a string to be converted to a list\"\n",
    "\n",
    "to_list = my_str.split()\n",
    "\n",
    "print(type(to_list))"
   ]
  },
  {
   "cell_type": "code",
   "execution_count": 3,
   "metadata": {},
   "outputs": [
    {
     "name": "stdout",
     "output_type": "stream",
     "text": [
      "third\n"
     ]
    }
   ],
   "source": [
    "# Accessing list element\n",
    "\n",
    "my_list = ['first', 'second', 'third', 'fourth']\n",
    "\n",
    "print(my_list[2])"
   ]
  },
  {
   "cell_type": "code",
   "execution_count": 4,
   "metadata": {},
   "outputs": [
    {
     "name": "stdout",
     "output_type": "stream",
     "text": [
      "First\n",
      "Second\n",
      "Third\n",
      "Fourth\n"
     ]
    }
   ],
   "source": [
    "# Loops : for, while\n",
    "\n",
    "# Using for loop\n",
    "\n",
    "my_list = ['first', 'second', 'third', 'fourth']\n",
    "\n",
    "for item in my_list:\n",
    "    print (item.title())\n",
    "\n",
    "    "
   ]
  },
  {
   "cell_type": "code",
   "execution_count": 6,
   "metadata": {},
   "outputs": [
    {
     "name": "stdout",
     "output_type": "stream",
     "text": [
      "0\n",
      "1\n",
      "2\n",
      "3\n",
      "4\n"
     ]
    }
   ],
   "source": [
    "# Using While loop\n",
    "\n",
    "i = 0\n",
    "while i < 5:\n",
    "    print(i)\n",
    "    i+=1\n",
    "    "
   ]
  },
  {
   "cell_type": "code",
   "execution_count": 7,
   "metadata": {},
   "outputs": [
    {
     "name": "stdout",
     "output_type": "stream",
     "text": [
      "['first', 'second', 'Blue', 'fourth', 'fifth', 'sixth']\n"
     ]
    }
   ],
   "source": [
    "# Replacing an item in the list\n",
    "\n",
    "my_list = ['first', 'second', 'third', 'fourth', 'fifth', 'sixth']\n",
    "\n",
    "my_list[2] = \"Blue\"\n",
    "\n",
    "print(my_list)\n"
   ]
  },
  {
   "cell_type": "code",
   "execution_count": 11,
   "metadata": {},
   "outputs": [
    {
     "name": "stdout",
     "output_type": "stream",
     "text": [
      "0\n",
      "1\n",
      "2\n",
      "3\n",
      "4\n"
     ]
    }
   ],
   "source": [
    "# Range function\n",
    "\n",
    "for i  in range(0,5):\n",
    "    print(i)"
   ]
  },
  {
   "cell_type": "code",
   "execution_count": 13,
   "metadata": {},
   "outputs": [
    {
     "name": "stdout",
     "output_type": "stream",
     "text": [
      "['first']\n",
      "['first', 'second']\n"
     ]
    }
   ],
   "source": [
    "# Adding items to a list using the append method\n",
    "\n",
    "empty_list = []\n",
    "\n",
    "empty_list.append('first')\n",
    "print(empty_list)\n",
    "\n",
    "empty_list.append('second')\n",
    "print(empty_list)"
   ]
  },
  {
   "cell_type": "code",
   "execution_count": 14,
   "metadata": {},
   "outputs": [
    {
     "name": "stdout",
     "output_type": "stream",
     "text": [
      "[0, 1, 2, 3, 4, 5, 6, 7, 8, 9]\n"
     ]
    }
   ],
   "source": [
    "# Adding items to an empty list continiously using a for loop\n",
    "\n",
    "empty_list = []\n",
    "\n",
    "for i in range(0,10):\n",
    "    empty_list.append(i)\n",
    "\n",
    "print(empty_list)"
   ]
  },
  {
   "cell_type": "code",
   "execution_count": 16,
   "metadata": {},
   "outputs": [
    {
     "name": "stdout",
     "output_type": "stream",
     "text": [
      "sixth\n"
     ]
    }
   ],
   "source": [
    "# Pop\n",
    "\n",
    "my_list = ['first', 'second', 'third', 'fourth', 'fifth', 'sixth']\n",
    "\n",
    "popped_item = my_list.pop()\n",
    "\n",
    "print(popped_item)"
   ]
  },
  {
   "cell_type": "code",
   "execution_count": 18,
   "metadata": {},
   "outputs": [
    {
     "name": "stdout",
     "output_type": "stream",
     "text": [
      "['first', 'second', 'third', 'fourth', 'fifth', 'sixth', 'seventh']\n"
     ]
    }
   ],
   "source": [
    "#Insert method\n",
    "\n",
    "my_list = ['first', 'second', 'third', 'fourth', 'fifth', 'sixth']\n",
    "\n",
    "my_list.insert(6, \"seventh\")\n",
    "\n",
    "print(my_list)"
   ]
  },
  {
   "cell_type": "code",
   "execution_count": 22,
   "metadata": {},
   "outputs": [
    {
     "name": "stdout",
     "output_type": "stream",
     "text": [
      "1\n"
     ]
    }
   ],
   "source": [
    "# Index method\n",
    "\n",
    "my_list = ['first', 'second', 'third', 'fourth', 'fifth', 'sixth']\n",
    "\n",
    "check_index_of_an_item = my_list.index(\"second\")\n",
    "\n",
    "print(check_index_of_an_item)\n"
   ]
  },
  {
   "cell_type": "code",
   "execution_count": 23,
   "metadata": {},
   "outputs": [
    {
     "name": "stdout",
     "output_type": "stream",
     "text": [
      "['first', 'third', 'fourth', 'fifth', 'sixth']\n"
     ]
    }
   ],
   "source": [
    "# Remove method\n",
    "\n",
    "my_list = ['first', 'second', 'third', 'fourth', 'fifth', 'sixth']\n",
    "\n",
    "my_list.remove(\"second\")\n",
    "\n",
    "print(my_list)\n",
    "\n"
   ]
  },
  {
   "cell_type": "code",
   "execution_count": 35,
   "metadata": {},
   "outputs": [
    {
     "name": "stdout",
     "output_type": "stream",
     "text": [
      "[1, 2, 10, 12, 22, 40]\n"
     ]
    }
   ],
   "source": [
    "#Sorting a list (Permanently)\n",
    "\n",
    "my_list = [12, 1, 2, 40, 22, 10]\n",
    "\n",
    "my_list.sort()\n",
    "\n",
    "print(my_list)"
   ]
  },
  {
   "cell_type": "code",
   "execution_count": 31,
   "metadata": {},
   "outputs": [
    {
     "name": "stdout",
     "output_type": "stream",
     "text": [
      "[40, 22, 12, 10, 2, 1]\n"
     ]
    }
   ],
   "source": [
    "#Sorting a list (Temporarily)\n",
    "\n",
    "my_list = [12, 1, 2, 40, 22, 10]\n",
    "\n",
    "sort_list = sorted(my_list)\n",
    "\n",
    "print(sort_list)\n"
   ]
  },
  {
   "cell_type": "code",
   "execution_count": 46,
   "metadata": {},
   "outputs": [
    {
     "name": "stdout",
     "output_type": "stream",
     "text": [
      "[10, 22, 40, 2, 1, 12]\n"
     ]
    }
   ],
   "source": [
    "# Reversing a list\n",
    "\n",
    "my_list = [12, 1, 2, 40, 22, 10]\n",
    "\n",
    "my_list.sort(reverse=True)\n",
    "\n",
    "print(my_list)"
   ]
  },
  {
   "cell_type": "code",
   "execution_count": 47,
   "metadata": {},
   "outputs": [
    {
     "name": "stdout",
     "output_type": "stream",
     "text": [
      "[40, 22, 12, 10, 2, 1]\n"
     ]
    }
   ],
   "source": [
    "# Sorting a list (in Reverse)\n",
    "\n",
    "my_list = [12, 1, 2, 40, 22, 10]\n",
    "\n",
    "reverse_list = my_list.reverse()\n",
    "\n",
    "print(my_list)"
   ]
  },
  {
   "cell_type": "code",
   "execution_count": null,
   "metadata": {},
   "outputs": [],
   "source": []
  }
 ],
 "metadata": {
  "kernelspec": {
   "display_name": "Python 3",
   "language": "python",
   "name": "python3"
  },
  "language_info": {
   "codemirror_mode": {
    "name": "ipython",
    "version": 3
   },
   "file_extension": ".py",
   "mimetype": "text/x-python",
   "name": "python",
   "nbconvert_exporter": "python",
   "pygments_lexer": "ipython3",
   "version": "3.7.6"
  }
 },
 "nbformat": 4,
 "nbformat_minor": 4
}
