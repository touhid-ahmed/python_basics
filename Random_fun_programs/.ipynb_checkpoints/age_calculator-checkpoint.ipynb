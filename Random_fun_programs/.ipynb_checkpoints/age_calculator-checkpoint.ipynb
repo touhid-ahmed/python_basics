{
 "cells": [
  {
   "cell_type": "code",
   "execution_count": 13,
   "metadata": {},
   "outputs": [
    {
     "name": "stdout",
     "output_type": "stream",
     "text": [
      "Enter your Birth month and year in numbers: 3 1995\n",
      "You are 25 years old! Oops! Birthday was 6 months ago!\n"
     ]
    }
   ],
   "source": [
    "import datetime\n",
    "\n",
    "\n",
    "def find_age():\n",
    "    usr_input = input(\"Enter your Birth month and year in numbers: \").split()\n",
    "    current = datetime.datetime.now()\n",
    "    year = current.year\n",
    "    month = current.month\n",
    "    age = year - int(usr_input[1])\n",
    "    \n",
    "    if int(usr_input[0]) > month:\n",
    "        print(\"You are \" + str(age) + \" years old! Birthday coming up in \" + str(int(usr_input[0]) - month) + \" months\")\n",
    "        \n",
    "    elif int(usr_input[0]) < month:\n",
    "        print(\"You are \" + str(age) + \" years old! Oops! Birthday was \" + str(month - int(usr_input[0])) + \" months ago!\")\n",
    "    else:\n",
    "        print(\"You are \" + str(age) + \" years old! This is your Birthday month!\")\n",
    "        \n",
    "        \n",
    "find_age()"
   ]
  },
  {
   "cell_type": "code",
   "execution_count": null,
   "metadata": {},
   "outputs": [],
   "source": []
  }
 ],
 "metadata": {
  "kernelspec": {
   "display_name": "Python 3",
   "language": "python",
   "name": "python3"
  },
  "language_info": {
   "codemirror_mode": {
    "name": "ipython",
    "version": 3
   },
   "file_extension": ".py",
   "mimetype": "text/x-python",
   "name": "python",
   "nbconvert_exporter": "python",
   "pygments_lexer": "ipython3",
   "version": "3.7.6"
  }
 },
 "nbformat": 4,
 "nbformat_minor": 4
}
