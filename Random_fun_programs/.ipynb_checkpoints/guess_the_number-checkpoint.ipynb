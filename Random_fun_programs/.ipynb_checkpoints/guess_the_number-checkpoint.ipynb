{
 "cells": [
  {
   "cell_type": "code",
   "execution_count": 7,
   "metadata": {},
   "outputs": [
    {
     "name": "stdout",
     "output_type": "stream",
     "text": [
      "Guess a number between 1 and 10. Enter Y to proceed: Y\n",
      "Multiply it by 9. Enter Y to proceed: Y\n",
      "Add the numbers together. Enter Y to proceed: Y\n",
      "Add 4 to your number. Enter Y to proceedY\n",
      "Your answer is 13\n"
     ]
    }
   ],
   "source": [
    "def guess_the_number():\n",
    "    \n",
    "    check = input(\"Guess a number between 1 and 10. Enter Y to proceed: \")\n",
    "    number = 3\n",
    "    if check.lower() != 'y' :\n",
    "        print(\"You have entered a wrong input. Please run the program again\")\n",
    "    else:\n",
    "        \n",
    "        check1 = input(\"Multiply it by 9. Enter Y to proceed: \")\n",
    "\n",
    "        if check1.lower() == 'y':\n",
    "            number_guessed = number*9\n",
    "            \n",
    "            check2 = input(\"Add the numbers together. Enter Y to proceed: \")\n",
    "            if check2.lower() == 'y':\n",
    "                guess = 0\n",
    "                for i in str(number_guessed):\n",
    "                    guess = guess + int(i)\n",
    "                    \n",
    "                check3 = input(\"Add 4 to your number. Enter Y to proceed\")\n",
    "                \n",
    "                if check3.lower() == 'y':\n",
    "                    final_result = guess + 4\n",
    "                    print(\"Your answer is 13\")\n",
    "                else:\n",
    "                    print(\"Error\")\n",
    "            \n",
    "            else:\n",
    "                print(\"Error\")\n",
    "        \n",
    "        else:\n",
    "            print(\"Error\")\n",
    "    \n",
    "\n",
    "    \n",
    "guess_the_number()    "
   ]
  },
  {
   "cell_type": "code",
   "execution_count": 13,
   "metadata": {},
   "outputs": [
    {
     "name": "stdout",
     "output_type": "stream",
     "text": [
      "Guess the number: 4\n",
      "You are far. Go down!\n",
      "Guess the number: 2\n",
      "You are close. Keep going!\n",
      "Guess the number: 3\n",
      "You got it! It took you 3 tries :p\n"
     ]
    }
   ],
   "source": [
    "import random\n",
    "def what_am_i_guessing():\n",
    "    original = random.randint(0,10)\n",
    "    time = 1\n",
    "    try:\n",
    "    \n",
    "        while True:\n",
    "            keep_guessing = int(input(\"Guess the number: \"))\n",
    "        \n",
    "            if keep_guessing>original:\n",
    "                print(\"You are far. Go down!\")\n",
    "                time = time+1\n",
    "            elif keep_guessing<original:\n",
    "                print(\"You are close. Keep going!\")\n",
    "                time=time+1\n",
    "        \n",
    "            elif keep_guessing == original:\n",
    "                print(\"You got it! It took you \" + str(time)+\" tries :p\" )\n",
    "                break\n",
    "    except ValueError:\n",
    "        print(\"Enter a valid number\")\n",
    "    \n",
    "what_am_i_guessing()"
   ]
  },
  {
   "cell_type": "code",
   "execution_count": null,
   "metadata": {},
   "outputs": [],
   "source": []
  }
 ],
 "metadata": {
  "kernelspec": {
   "display_name": "Python 3",
   "language": "python",
   "name": "python3"
  },
  "language_info": {
   "codemirror_mode": {
    "name": "ipython",
    "version": 3
   },
   "file_extension": ".py",
   "mimetype": "text/x-python",
   "name": "python",
   "nbconvert_exporter": "python",
   "pygments_lexer": "ipython3",
   "version": "3.7.6"
  }
 },
 "nbformat": 4,
 "nbformat_minor": 4
}
