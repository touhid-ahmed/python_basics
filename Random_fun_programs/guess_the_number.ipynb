{
 "cells": [
  {
   "cell_type": "code",
   "execution_count": 4,
   "metadata": {},
   "outputs": [
    {
     "name": "stdout",
     "output_type": "stream",
     "text": [
      "Guess a number: 4\n",
      "Multiply it by 9. Enter Y to proceed\n",
      "y\n",
      "Add the numbers together. Enter Y to proceed\n",
      "y\n",
      "Add 4 to your number. Enter Y to proceed\n",
      "y\n",
      "Your result is 13\n"
     ]
    }
   ],
   "source": [
    "def guess_the_number():\n",
    "    \n",
    "    number = int(input(\"Guess a number: \"))\n",
    "    \n",
    "    if number > 10 or number < 0:\n",
    "        print(\"You have entered a wrong number. Please enter again\")\n",
    "    else:\n",
    "        \n",
    "        print(\"Multiply it by 9. Enter Y to proceed\")\n",
    "        check1 = input()\n",
    "        \n",
    "        if check1.lower() == 'y':\n",
    "            number_guessed = number*9\n",
    "            \n",
    "            print(\"Add the numbers together. Enter Y to proceed\")\n",
    "            check2 = input()\n",
    "            \n",
    "            if check2.lower() == 'y':\n",
    "                guess = 0\n",
    "                for i in str(number_guessed):\n",
    "                    guess = guess + int(i)\n",
    "                    \n",
    "                print(\"Add 4 to your number. Enter Y to proceed\")\n",
    "                check3 = input()\n",
    "                if check2.lower() == 'y':\n",
    "                    final_result = guess + 4\n",
    "                    print(\"Your result is 13\")\n",
    "                else:\n",
    "                    print(\"Error\")\n",
    "            \n",
    "            else:\n",
    "                print(\"Error\")\n",
    "        \n",
    "        else:\n",
    "            print(\"Error\")\n",
    "    \n",
    "\n",
    "    \n",
    "guess_the_number()    "
   ]
  },
  {
   "cell_type": "code",
   "execution_count": null,
   "metadata": {},
   "outputs": [],
   "source": []
  }
 ],
 "metadata": {
  "kernelspec": {
   "display_name": "Python 3",
   "language": "python",
   "name": "python3"
  },
  "language_info": {
   "codemirror_mode": {
    "name": "ipython",
    "version": 3
   },
   "file_extension": ".py",
   "mimetype": "text/x-python",
   "name": "python",
   "nbconvert_exporter": "python",
   "pygments_lexer": "ipython3",
   "version": "3.7.6"
  }
 },
 "nbformat": 4,
 "nbformat_minor": 4
}
