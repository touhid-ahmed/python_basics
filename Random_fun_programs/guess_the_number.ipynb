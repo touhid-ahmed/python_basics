{
 "cells": [
  {
   "cell_type": "code",
   "execution_count": 13,
   "metadata": {},
   "outputs": [
    {
     "name": "stdout",
     "output_type": "stream",
     "text": [
      "Guess the number: 4\n",
      "You are far. Go down!\n",
      "Guess the number: 2\n",
      "You are close. Keep going!\n",
      "Guess the number: 3\n",
      "You got it! It took you 3 tries :p\n"
     ]
    }
   ],
   "source": [
    "import random\n",
    "def what_am_i_guessing():\n",
    "    original = random.randint(0,10)\n",
    "    time = 1\n",
    "    try:\n",
    "    \n",
    "        while True:\n",
    "            keep_guessing = int(input(\"Guess the number: \"))\n",
    "        \n",
    "            if keep_guessing>original:\n",
    "                print(\"You are far. Go down!\")\n",
    "                time = time+1\n",
    "            elif keep_guessing<original:\n",
    "                print(\"You are close. Keep going!\")\n",
    "                time=time+1\n",
    "        \n",
    "            elif keep_guessing == original:\n",
    "                print(\"You got it! It took you \" + str(time)+\" tries :p\" )\n",
    "                break\n",
    "    except ValueError:\n",
    "        print(\"Enter a valid number\")\n",
    "    \n",
    "what_am_i_guessing()"
   ]
  },
  {
   "cell_type": "code",
   "execution_count": null,
   "metadata": {},
   "outputs": [],
   "source": []
  }
 ],
 "metadata": {
  "kernelspec": {
   "display_name": "Python 3",
   "language": "python",
   "name": "python3"
  },
  "language_info": {
   "codemirror_mode": {
    "name": "ipython",
    "version": 3
   },
   "file_extension": ".py",
   "mimetype": "text/x-python",
   "name": "python",
   "nbconvert_exporter": "python",
   "pygments_lexer": "ipython3",
   "version": "3.7.6"
  }
 },
 "nbformat": 4,
 "nbformat_minor": 4
}
