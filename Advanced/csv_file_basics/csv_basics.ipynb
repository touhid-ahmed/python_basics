{
 "cells": [
  {
   "cell_type": "markdown",
   "metadata": {},
   "source": [
    "#### CSV stands for \"*Comma-Seperated Values*\". CSV files are simplified spreadsheets stored as plaintext files. The CSV files don't have types for their values as everything is a *string*. To parse CSV files, we use the python's *csv* module."
   ]
  },
  {
   "cell_type": "markdown",
   "metadata": {},
   "source": [
    "Reading csv data using **.reader()** function."
   ]
  },
  {
   "cell_type": "code",
   "execution_count": 20,
   "metadata": {},
   "outputs": [
    {
     "name": "stdout",
     "output_type": "stream",
     "text": [
      "Gender\n",
      "Male\n",
      "Denied\n"
     ]
    }
   ],
   "source": [
    "import csv\n",
    "\n",
    "with open('test_csv.csv') as csv_file:\n",
    "    read_csv = csv.reader(csv_file)\n",
    "    content = list(read_csv)\n",
    "    csv_file.close()\n",
    "\n",
    "    \n",
    "print(content[0][2])\n",
    "print(content[1][2])\n",
    "print(content[2][3])"
   ]
  },
  {
   "cell_type": "markdown",
   "metadata": {},
   "source": [
    "Printing csv data with row numbers using **.line_num** method"
   ]
  },
  {
   "cell_type": "code",
   "execution_count": 17,
   "metadata": {},
   "outputs": [
    {
     "name": "stdout",
     "output_type": "stream",
     "text": [
      "Row# 1 ['serial', 'name', 'Gender', 'status']\n",
      "Row# 2 ['1', 'Adam', 'Male', 'Admitted']\n",
      "Row# 3 ['2', 'Kumar', 'Male', 'Denied']\n",
      "Row# 4 ['3', 'Roy', ' Male', ' Admitted']\n"
     ]
    }
   ],
   "source": [
    "import csv\n",
    "\n",
    "csv_file2 = open('test_csv.csv')  \n",
    "read_csv2 = csv.reader(csv_file2)\n",
    "\n",
    "for i in read_csv2:\n",
    "    print(\"Row# \" + str(read_csv2.line_num)+ \" \" + str(i))"
   ]
  },
  {
   "cell_type": "markdown",
   "metadata": {},
   "source": [
    "Writing to a csv file using the **.writer()** function. \n"
   ]
  },
  {
   "cell_type": "code",
   "execution_count": 21,
   "metadata": {},
   "outputs": [],
   "source": [
    "import csv\n",
    "\n",
    "csv_output = open(\"output_csv.csv\", 'w', newline='')\n",
    "write_csv = csv.writer(csv_output)\n",
    "\n",
    "write_csv.writerow(['ID', 'Fruit', 'Color', 'Tasty'])\n",
    "write_csv.writerow(['1', 'Apple', 'Red', 'Yes'])\n",
    "write_csv.writerow(['2', 'Orange', 'Orange', 'Yes'])\n",
    "\n",
    "csv_output.close()\n"
   ]
  },
  {
   "cell_type": "markdown",
   "metadata": {},
   "source": [
    "**delimiter** and **lineterminator** key arguments"
   ]
  },
  {
   "cell_type": "code",
   "execution_count": 22,
   "metadata": {},
   "outputs": [],
   "source": [
    "import csv\n",
    "\n",
    "tsv_file = open('tsv_read.tsv', 'w', newline='')\n",
    "tsv_write = csv.writer(tsv_file, delimiter='\\t', lineterminator='\\n\\n')\n",
    "tsv_write.writerow(['ID', 'Fruit', 'Color', 'Tasty'])\n",
    "tsv_write.writerow(['1', 'Apple', 'Red', 'Yes'])\n",
    "tsv_write.writerow(['2', 'Orange', 'Orange', 'Yes'])\n",
    "\n",
    "tsv_file.close()"
   ]
  },
  {
   "cell_type": "code",
   "execution_count": 31,
   "metadata": {},
   "outputs": [
    {
     "name": "stdout",
     "output_type": "stream",
     "text": [
      "['ID\\tFruit\\tColor\\tTasty']\n",
      "[]\n",
      "['1\\tApple\\tRed\\tYes']\n",
      "[]\n",
      "['2\\tOrange\\tOrange\\tYes']\n",
      "[]\n"
     ]
    }
   ],
   "source": [
    "import csv\n",
    "\n",
    "read_tsv = open('tsv_read.tsv')\n",
    "content = csv.reader(read_tsv)\n",
    "\n",
    "for i in content:\n",
    "    print(i)"
   ]
  },
  {
   "cell_type": "code",
   "execution_count": null,
   "metadata": {},
   "outputs": [],
   "source": []
  }
 ],
 "metadata": {
  "kernelspec": {
   "display_name": "Python 3",
   "language": "python",
   "name": "python3"
  },
  "language_info": {
   "codemirror_mode": {
    "name": "ipython",
    "version": 3
   },
   "file_extension": ".py",
   "mimetype": "text/x-python",
   "name": "python",
   "nbconvert_exporter": "python",
   "pygments_lexer": "ipython3",
   "version": "3.7.6"
  }
 },
 "nbformat": 4,
 "nbformat_minor": 4
}
