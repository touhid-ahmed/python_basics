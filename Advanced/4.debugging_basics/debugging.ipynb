{
 "cells": [
  {
   "cell_type": "markdown",
   "metadata": {},
   "source": [
    "**Try - Except Block for error handling**"
   ]
  },
  {
   "cell_type": "code",
   "execution_count": 17,
   "metadata": {},
   "outputs": [
    {
     "name": "stdout",
     "output_type": "stream",
     "text": [
      "The function recieved the following input: 7\n",
      "The function needs an valid input\n"
     ]
    }
   ],
   "source": [
    "def show_val(val):\n",
    "    \n",
    "    print(\"The function recieved the following input:\", val)\n",
    "\n",
    "try:\n",
    "    show_val(7)\n",
    "    show_val(hello)\n",
    "    \n",
    "except NameError:\n",
    "    print(\"The function needs an valid input\")\n",
    "    "
   ]
  },
  {
   "cell_type": "markdown",
   "metadata": {},
   "source": [
    "### Raising Exceptions:\n",
    "\n",
    "**Exceptions** are raised with a **raise** statement which stops running the code whenever an invalid code is executed and jumps to the **\"except\"** block of the code."
   ]
  },
  {
   "cell_type": "code",
   "execution_count": 22,
   "metadata": {},
   "outputs": [
    {
     "name": "stdout",
     "output_type": "stream",
     "text": [
      "The value entered was: 55\n",
      "An exception occured: You have entered a negative value\n"
     ]
    }
   ],
   "source": [
    "def show(val):\n",
    "    \n",
    "    if val<0:\n",
    "        raise Exception(\"You have entered a negative value\")\n",
    "\n",
    "    print(\"The value entered was:\", val)\n",
    "        \n",
    "try:\n",
    "    show(55)\n",
    "    show(-2)\n",
    "\n",
    "except Exception as err:\n",
    "    \n",
    "    print(\"An exception occured: \" + str(err))"
   ]
  },
  {
   "cell_type": "markdown",
   "metadata": {},
   "source": [
    "### Traceback:\n",
    "**Traceback** contains the error information generated whenever python encounters an error. The traceback includes the **error message**, **line number** of the line that caused the error and the **sequence of the function** calls that led to the error. This sequence of calls is called the **callstack**.\n",
    "\n",
    "The traceback is displayed in python whenever a raised exception goes unhandled. Furthermore we can **write the traceback information into a log file** and keep the program running. The log file can be viewed later for debugging. For this, we **import the traceback module.**"
   ]
  },
  {
   "cell_type": "code",
   "execution_count": 24,
   "metadata": {},
   "outputs": [
    {
     "name": "stdout",
     "output_type": "stream",
     "text": [
      "The traceback information has been written to errortxt.txt\n"
     ]
    }
   ],
   "source": [
    "import traceback\n",
    "\n",
    "def show_val(val):\n",
    "    \n",
    "    if val<0:\n",
    "        raise Exception(\"You have entered a negative value\")\n",
    "\n",
    "    print(\"The value entered was:\", val)\n",
    "        \n",
    "try:\n",
    "    show_val(-2)\n",
    "\n",
    "except:\n",
    "    \n",
    "    errorfile = open('errortxt.txt', 'w')\n",
    "    errorfile.write(traceback.format_exc())\n",
    "    errorfile.close()\n",
    "    print(\"The traceback information has been written to errortxt.txt\")\n"
   ]
  },
  {
   "cell_type": "code",
   "execution_count": 25,
   "metadata": {},
   "outputs": [
    {
     "name": "stdout",
     "output_type": "stream",
     "text": [
      "Traceback (most recent call last):\n",
      "  File \"<ipython-input-24-54af55f62975>\", line 11, in <module>\n",
      "    show_val(-2)\n",
      "  File \"<ipython-input-24-54af55f62975>\", line 6, in show_val\n",
      "    raise Exception(\"You have entered a negative value\")\n",
      "Exception: You have entered a negative value\n",
      "\n"
     ]
    }
   ],
   "source": [
    "with open('errortxt.txt') as file_object:\n",
    "    content = file_object.read()\n",
    "    file_object.close()\n",
    "print(content)"
   ]
  },
  {
   "cell_type": "markdown",
   "metadata": {},
   "source": [
    "### There are two features that can be used to help us detect bugs early.\n",
    "\n",
    "- Assertions\n",
    "- Logging\n",
    "\n",
    "\n",
    "**Assertion** helps us to identify our mistake by telling us what is wrong. We do this by using an **assert** statement which **holds true for a defined condition** by the developer, else there is a bug somewhere in the program."
   ]
  },
  {
   "cell_type": "code",
   "execution_count": 29,
   "metadata": {},
   "outputs": [
    {
     "ename": "AssertionError",
     "evalue": "The variable does not contain the value 7",
     "output_type": "error",
     "traceback": [
      "\u001b[1;31m---------------------------------------------------------------------------\u001b[0m",
      "\u001b[1;31mAssertionError\u001b[0m                            Traceback (most recent call last)",
      "\u001b[1;32m<ipython-input-29-8025664c0b88>\u001b[0m in \u001b[0;36m<module>\u001b[1;34m\u001b[0m\n\u001b[0;32m      5\u001b[0m \u001b[0mmy_variable\u001b[0m \u001b[1;33m=\u001b[0m \u001b[1;36m10\u001b[0m\u001b[1;33m\u001b[0m\u001b[1;33m\u001b[0m\u001b[0m\n\u001b[0;32m      6\u001b[0m \u001b[1;33m\u001b[0m\u001b[0m\n\u001b[1;32m----> 7\u001b[1;33m \u001b[1;32massert\u001b[0m \u001b[0mmy_variable\u001b[0m \u001b[1;33m==\u001b[0m \u001b[1;36m7\u001b[0m\u001b[1;33m,\u001b[0m \u001b[1;34m'The variable does not contain the value 7'\u001b[0m\u001b[1;33m\u001b[0m\u001b[1;33m\u001b[0m\u001b[0m\n\u001b[0m",
      "\u001b[1;31mAssertionError\u001b[0m: The variable does not contain the value 7"
     ]
    }
   ],
   "source": [
    "my_variable = 7\n",
    "\n",
    "assert my_variable == 7, 'The variable does not contain the value 7'\n",
    "\n",
    "my_variable = 10\n",
    "\n",
    "assert my_variable == 7, 'The variable does not contain the value 7'\n"
   ]
  },
  {
   "cell_type": "markdown",
   "metadata": {},
   "source": [
    "**Logging** module creates a record of custom messages that we write and describes the time of program execution as well as lists any variables we have specified at that point in time."
   ]
  },
  {
   "cell_type": "code",
   "execution_count": 32,
   "metadata": {},
   "outputs": [
    {
     "name": "stderr",
     "output_type": "stream",
     "text": [
      "2020-09-08 19:06:43,197 - DEBUG - Program Starts\n",
      "2020-09-08 19:06:43,197 - DEBUG - i = 0, total = 10\n",
      "2020-09-08 19:06:43,198 - DEBUG - i = 1, total = 20\n",
      "2020-09-08 19:06:43,198 - DEBUG - i = 2, total = 30\n",
      "2020-09-08 19:06:43,199 - DEBUG - i = 3, total = 40\n",
      "2020-09-08 19:06:43,199 - DEBUG - i = 4, total = 50\n",
      "2020-09-08 19:06:43,200 - DEBUG - i = 5, total = 60\n",
      "2020-09-08 19:06:43,200 - DEBUG - i = 6, total = 70\n",
      "2020-09-08 19:06:43,201 - DEBUG - i = 7, total = 80\n",
      "2020-09-08 19:06:43,201 - DEBUG - i = 8, total = 90\n",
      "2020-09-08 19:06:43,202 - DEBUG - i = 9, total = 100\n",
      "2020-09-08 19:06:43,202 - DEBUG - End of function\n",
      "2020-09-08 19:06:43,203 - DEBUG - End of program\n"
     ]
    },
    {
     "name": "stdout",
     "output_type": "stream",
     "text": [
      "100\n"
     ]
    }
   ],
   "source": [
    "import logging\n",
    "logging.basicConfig(level=logging.DEBUG, format='%(asctime)s - %(levelname)s - %(message)s')\n",
    "\n",
    "logging.debug('Program Starts')\n",
    "\n",
    "def keep_adding(num):\n",
    "    total = 0\n",
    "    for i in range(num):\n",
    "        total+=num\n",
    "        logging.debug('i = ' + str(i)+ ', total = '+ str(total))\n",
    "    logging.debug('End of function')\n",
    "    \n",
    "    return total\n",
    "\n",
    "print(keep_adding(10))\n",
    "logging.debug('End of program')"
   ]
  }
 ],
 "metadata": {
  "kernelspec": {
   "display_name": "Python 3",
   "language": "python",
   "name": "python3"
  },
  "language_info": {
   "codemirror_mode": {
    "name": "ipython",
    "version": 3
   },
   "file_extension": ".py",
   "mimetype": "text/x-python",
   "name": "python",
   "nbconvert_exporter": "python",
   "pygments_lexer": "ipython3",
   "version": "3.7.6"
  }
 },
 "nbformat": 4,
 "nbformat_minor": 4
}
