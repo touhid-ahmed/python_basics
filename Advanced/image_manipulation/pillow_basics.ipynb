{
 "cells": [
  {
   "cell_type": "markdown",
   "metadata": {},
   "source": [
    "### Pillow\n",
    "Pillow is a third party Python module for interacting with image files. The module has several functions that make it easy to crop, resize, and edit the content of an image."
   ]
  },
  {
   "cell_type": "markdown",
   "metadata": {},
   "source": [
    "#### Colors and RGBA Values\n",
    "An **RGBA** value is a group of numbers that specify the amount of **Red, Green, Blue, and Alplha (or Transparency)** in a color. Each of these component values is an integer from 0 (minimum) to 255 (maximum). Theese RGBA values are assigned to individual **pixels**. A pixel is the smallest dot of a single-color the computer can show. A pixel's RGBA setting tells it precisely what shade of color it should display. **In Pillow, RGBA values are represented by a tuple of four integer values.**"
   ]
  },
  {
   "cell_type": "markdown",
   "metadata": {},
   "source": [
    "**ImageColor.getcolor()** function can be used to return an RGBA tuple"
   ]
  },
  {
   "cell_type": "code",
   "execution_count": 5,
   "metadata": {},
   "outputs": [
    {
     "name": "stdout",
     "output_type": "stream",
     "text": [
      "(255, 0, 0, 255)\n"
     ]
    }
   ],
   "source": [
    "from PIL import ImageColor\n",
    "\n",
    "#Printing the RGBA value of RED color\n",
    "\n",
    "print(ImageColor.getcolor('Red','RGBA'))"
   ]
  },
  {
   "cell_type": "markdown",
   "metadata": {},
   "source": [
    "#### Co-ordinates and Box Tuples\n",
    "Image Pixels are addressed with x- and y-coordinates, which respectively specify a pixel's horizontal and vertical location in an image. The origin is the pixel at the top-left corner of the image and is specified with the notation (0,0). The x-coordinate increases going from left to right while the y-coordinate increases going from top to bottom. Many of the Pillow's functions and methods take a box tuple argument that consists of four integer coordinates that represent a rectangular region in an image. The four integers are:\n",
    "\n",
    "- Left: x-coordinate of the leftmost edge of the box\n",
    "- Top: y-coordinate of the top edge of the box\n",
    "- Right: x-cooridnate of one pixel to the right of the rightmost edge of the box\n",
    "- Bottom: y-coordinate of one pixel lower than the bottom edge of the box"
   ]
  },
  {
   "cell_type": "markdown",
   "metadata": {},
   "source": [
    "#### Image Manipulation with Pillow\n",
    "\n",
    "To load the image, we import the **Image** module from Pillow and call **Image.open()**, passing it the image filename. We can the store the loaded image in a variable."
   ]
  },
  {
   "cell_type": "code",
   "execution_count": 1,
   "metadata": {},
   "outputs": [],
   "source": [
    "from PIL import Image\n",
    "bugs_bunny = Image.open('bunny.jpg')"
   ]
  },
  {
   "cell_type": "markdown",
   "metadata": {},
   "source": [
    "The **Image.open()** function returns a value of the Image object data type. Any changes made to the Image object data type can be saved to an Image file with the **save()** method. **All rotation, resizing, cropping, drawing, and other manipulation will be done through method calls on this Image object.**"
   ]
  },
  {
   "cell_type": "markdown",
   "metadata": {},
   "source": [
    "**For our convenience, we will be using the following picture of Bugs Bunny (My Favorite Cartoon Character!)**"
   ]
  },
  {
   "cell_type": "markdown",
   "metadata": {},
   "source": [
    "<img src=\"bunny.jpg\" align='Left'/>"
   ]
  },
  {
   "cell_type": "markdown",
   "metadata": {},
   "source": [
    "**Get the width and height of the image**"
   ]
  },
  {
   "cell_type": "code",
   "execution_count": 7,
   "metadata": {},
   "outputs": [
    {
     "name": "stdout",
     "output_type": "stream",
     "text": [
      "(280, 350)\n"
     ]
    }
   ],
   "source": [
    "print(bugs_bunny.size)\n",
    "width, height = bugs_bunny.size"
   ]
  },
  {
   "cell_type": "markdown",
   "metadata": {},
   "source": [
    "**Get the image filename**"
   ]
  },
  {
   "cell_type": "code",
   "execution_count": 8,
   "metadata": {},
   "outputs": [
    {
     "data": {
      "text/plain": [
       "'bunny.jpg'"
      ]
     },
     "execution_count": 8,
     "metadata": {},
     "output_type": "execute_result"
    }
   ],
   "source": [
    "bugs_bunny.filename"
   ]
  },
  {
   "cell_type": "markdown",
   "metadata": {},
   "source": [
    "**Get the image format**"
   ]
  },
  {
   "cell_type": "code",
   "execution_count": 9,
   "metadata": {},
   "outputs": [
    {
     "data": {
      "text/plain": [
       "'JPEG'"
      ]
     },
     "execution_count": 9,
     "metadata": {},
     "output_type": "execute_result"
    }
   ],
   "source": [
    "bugs_bunny.format"
   ]
  },
  {
   "cell_type": "markdown",
   "metadata": {},
   "source": [
    "**Describe the image format**"
   ]
  },
  {
   "cell_type": "code",
   "execution_count": 10,
   "metadata": {},
   "outputs": [
    {
     "data": {
      "text/plain": [
       "'JPEG (ISO 10918)'"
      ]
     },
     "execution_count": 10,
     "metadata": {},
     "output_type": "execute_result"
    }
   ],
   "source": [
    "bugs_bunny.format_description"
   ]
  },
  {
   "cell_type": "markdown",
   "metadata": {},
   "source": [
    "**Save the image into a new file**"
   ]
  },
  {
   "cell_type": "code",
   "execution_count": 13,
   "metadata": {},
   "outputs": [],
   "source": [
    "bugs_bunny.save('bugs_copy.png')"
   ]
  },
  {
   "cell_type": "markdown",
   "metadata": {},
   "source": [
    "**Using the Image.new() function.**\n",
    "The Image.new() function takes the following arguments:\n",
    "- String \"RGBA\" which sets the color mode to RGBA\n",
    "- Size, as a two integer tuple of the new image's width and height\n",
    "- The background color that the image should start with as a four integer tuple of an RGBA value"
   ]
  },
  {
   "cell_type": "code",
   "execution_count": 17,
   "metadata": {},
   "outputs": [],
   "source": [
    "from PIL import Image\n",
    "backdrop = Image.new('RGBA', (200,300), 'purple')\n",
    "backdrop.save('purple.png')"
   ]
  },
  {
   "cell_type": "markdown",
   "metadata": {},
   "source": [
    "<img src=\"purple.png\" align='Left'/>"
   ]
  },
  {
   "cell_type": "markdown",
   "metadata": {},
   "source": [
    "#### Cropping Images\n",
    "The **crop()** method on Image objects takes a box tuple and returns an Image object representing the cropped image. The original image is untouched and the crop() method returns a new Image object. The box tuple includes the left column and top row of pixels and does not include the right column and bottom row of pixels."
   ]
  },
  {
   "cell_type": "code",
   "execution_count": 19,
   "metadata": {},
   "outputs": [],
   "source": [
    "cropped_bugs = bugs_bunny.crop((0,0,180,280))\n",
    "cropped_bugs.save('Bugs_cropped.png')"
   ]
  },
  {
   "cell_type": "markdown",
   "metadata": {},
   "source": [
    "<img src=\"bugs_cropped.png\" align='Left'/>"
   ]
  },
  {
   "cell_type": "markdown",
   "metadata": {},
   "source": [
    "#### Copying and Pasting Images onto other Images\n",
    "\n",
    "The **copy()** method will return a new image object with the same image as the *Image* object it was called on."
   ]
  },
  {
   "cell_type": "code",
   "execution_count": 36,
   "metadata": {},
   "outputs": [],
   "source": [
    "bugsCopy = bugs_bunny.copy()"
   ]
  },
  {
   "cell_type": "markdown",
   "metadata": {},
   "source": [
    "**Paste()** method is called on an *Image* object and pastes another Image on top of it. The paste() method takes two arguments: a 'source' Image object and a tuple of the x- and y- coordinates where we want to paste the top-left corner of the source Image object onto the main Image object."
   ]
  },
  {
   "cell_type": "code",
   "execution_count": 37,
   "metadata": {},
   "outputs": [],
   "source": [
    "bugsCopy.paste(cropped_bugs, (60,60))\n",
    "bugsCopy.save('paste.png')"
   ]
  },
  {
   "cell_type": "markdown",
   "metadata": {},
   "source": [
    "<img src=\"paste.png\" align='Left'/>"
   ]
  },
  {
   "cell_type": "code",
   "execution_count": 48,
   "metadata": {},
   "outputs": [
    {
     "name": "stdout",
     "output_type": "stream",
     "text": [
      "0 0\n",
      "0 170\n",
      "0 340\n",
      "80 0\n",
      "80 170\n",
      "80 340\n",
      "160 0\n",
      "160 170\n",
      "160 340\n",
      "240 0\n",
      "240 170\n",
      "240 340\n"
     ]
    }
   ],
   "source": [
    "#Crop the carrot region\n",
    "\n",
    "cropped_carrot = bugs_bunny.crop((200,130,280,300))\n",
    "cropped_carrot.save('carrot_cropped.png')\n",
    "\n",
    "\n",
    "#Get the width and height for both cropped and original image\n",
    "width_main, height_main = bugs_bunny.size\n",
    "width_crop, height_crop = cropped_carrot.size\n",
    "\n",
    "#Copy the original image for modifying it\n",
    "bugs_copy_another = bugs_bunny.copy()\n",
    "\n",
    "#Run for loops to paste the cropped image on the actual image\n",
    "for left in range(0, width_main, width_crop):\n",
    "    for top in range(0, height_main, height_crop):\n",
    "        print(left, top)\n",
    "        bugs_copy_another.paste(cropped_carrot, (left, top))\n",
    "\n",
    "#Save the image\n",
    "bugs_copy_another.save('tiled.png')"
   ]
  },
  {
   "cell_type": "markdown",
   "metadata": {},
   "source": [
    "<img src=\"tiled.png\" align='Left'/>"
   ]
  },
  {
   "cell_type": "markdown",
   "metadata": {},
   "source": [
    "#### Resizing an Image\n",
    "The *resize* method is called on an Image object and returns a new Image object of the specified width and height. It accepts a two-integer tuple argument, representing the new width and heightof the returned image."
   ]
  },
  {
   "cell_type": "code",
   "execution_count": 49,
   "metadata": {},
   "outputs": [],
   "source": [
    "width, height = bugs_bunny.size\n",
    "\n",
    "large_bunny = bugs_bunny.resize((int(width*2), int(height*2)))\n",
    "\n",
    "large_bunny.save('big_bunny.png')"
   ]
  },
  {
   "cell_type": "markdown",
   "metadata": {},
   "source": [
    "<img src=\"big_bunny.png\" align='Left'/>"
   ]
  },
  {
   "cell_type": "markdown",
   "metadata": {},
   "source": [
    "### Rotating and Flipping Images\n",
    "Images can be rotated with the **rotate()** method, which returns a new Image object of the related image and leaves the original Image object unchanged. The *rotate()* argument takes a single integer or a float representing the number of degrees to rotate the image counterclockwise. "
   ]
  },
  {
   "cell_type": "code",
   "execution_count": 50,
   "metadata": {},
   "outputs": [],
   "source": [
    "bugs_bunny.rotate(180).save('rotate180.png')"
   ]
  },
  {
   "cell_type": "markdown",
   "metadata": {},
   "source": [
    "<img src=\"rotate180.png\" align='Left'/>"
   ]
  },
  {
   "cell_type": "code",
   "execution_count": 51,
   "metadata": {},
   "outputs": [],
   "source": [
    "bugs_bunny.rotate(45, expand=True).save('rotate45.png')"
   ]
  },
  {
   "cell_type": "markdown",
   "metadata": {},
   "source": [
    "<img src=\"rotate45.png\" align='Left'/>"
   ]
  },
  {
   "cell_type": "markdown",
   "metadata": {},
   "source": [
    "**Flipping an Image:** We can do a mirror flip of an image with the **transpose()** method. We must either pass *Image.FLIP_LEFT_RIGHT* or *Image.FLIP_TOP_BOTTOM* to the transpose() method. "
   ]
  },
  {
   "cell_type": "code",
   "execution_count": 52,
   "metadata": {},
   "outputs": [],
   "source": [
    "bugs_bunny.transpose(Image.FLIP_LEFT_RIGHT).save('horizontal_flip.png')"
   ]
  },
  {
   "cell_type": "markdown",
   "metadata": {},
   "source": [
    "<img src=\"horizontal_flip.png\" align='Left'/>"
   ]
  },
  {
   "cell_type": "code",
   "execution_count": 53,
   "metadata": {},
   "outputs": [],
   "source": [
    "bugs_bunny.transpose(Image.FLIP_TOP_BOTTOM).save('vertical_flip.png')"
   ]
  },
  {
   "cell_type": "markdown",
   "metadata": {},
   "source": [
    "<img src=\"vertical_flip.png\" align='Left'/>"
   ]
  },
  {
   "cell_type": "markdown",
   "metadata": {},
   "source": [
    "### Changing Individual Pixel\n",
    "\n",
    "The color of an indiviual pixel can be retrieved or se with the **getpixel()** and **putpixel()** methods. Both these methods take a tuple representing the x and y coordinates of the pixel. The *putpixel()* method also takes an additional tuple argument for the color of the pixel. This color argument is a four-integer RGBA tuple or a Three-integer RGB tuple. "
   ]
  },
  {
   "cell_type": "code",
   "execution_count": 54,
   "metadata": {},
   "outputs": [],
   "source": [
    "#Create a transparent square\n",
    "\n",
    "main_im = Image.new('RGBA', (100,100))"
   ]
  },
  {
   "cell_type": "code",
   "execution_count": 55,
   "metadata": {},
   "outputs": [
    {
     "data": {
      "text/plain": [
       "(0, 0, 0, 0)"
      ]
     },
     "execution_count": 55,
     "metadata": {},
     "output_type": "execute_result"
    }
   ],
   "source": [
    "#Calling getpixel on some random coordinate to check it its transparent indeed\n",
    "main_im.getpixel((0,0))"
   ]
  },
  {
   "cell_type": "code",
   "execution_count": 58,
   "metadata": {},
   "outputs": [],
   "source": [
    "#Color the pixel using nested loops and the putpixel method\n",
    "\n",
    "for x in range(100):\n",
    "    for y in range(100):\n",
    "        main_im.putpixel((x,y),(200,200,200))\n",
    "\n",
    "#Save the image\n",
    "main_im.save('put_pixel.png')"
   ]
  },
  {
   "cell_type": "markdown",
   "metadata": {},
   "source": [
    "<img src=\"put_pixel.png\" align='Left'/>"
   ]
  },
  {
   "cell_type": "markdown",
   "metadata": {},
   "source": [
    "### Drawing on Images\n",
    "We can use the **ImageDraw** module to draw lines, rectangles, circles, or other simple shapes on an image. First we need to import the *Image* and *ImageDraw* module. Then we create a new image and store the image object in a variable. We then pass this image object to the **ImageDraw.Draw()** function to get an **ImageDraw** object."
   ]
  },
  {
   "cell_type": "code",
   "execution_count": 27,
   "metadata": {},
   "outputs": [],
   "source": [
    "from PIL import Image, ImageDraw\n",
    "black_image = Image.new('RGBA', (300,300), 'black')\n",
    "draw = ImageDraw.Draw(black_image)"
   ]
  },
  {
   "cell_type": "markdown",
   "metadata": {},
   "source": [
    "**Drawing on Images:** The ImageDraw *methods* draw various kinds of shapes on the image. The **fill** and **outline** parameters for these methods are optional and will default to white if left unspecified."
   ]
  },
  {
   "cell_type": "code",
   "execution_count": 28,
   "metadata": {},
   "outputs": [],
   "source": [
    "draw.point([(200,200),(10,150)]) \n",
    "black_image.save('point_draw.png')"
   ]
  },
  {
   "cell_type": "markdown",
   "metadata": {},
   "source": [
    "<img src=\"point_draw.png\" align='Left'/>"
   ]
  },
  {
   "cell_type": "code",
   "execution_count": 29,
   "metadata": {},
   "outputs": [],
   "source": [
    "draw.line((10,10,100,100),fill='white', width=3) \n",
    "black_image.save('line_draw.png')"
   ]
  },
  {
   "cell_type": "markdown",
   "metadata": {},
   "source": [
    "<img src=\"line_draw.png\" align='Left'/>"
   ]
  },
  {
   "cell_type": "code",
   "execution_count": 30,
   "metadata": {},
   "outputs": [],
   "source": [
    "draw.rectangle((150,160,200,200), fill='green')\n",
    "black_image.save('rectangle_draw.png')"
   ]
  },
  {
   "cell_type": "markdown",
   "metadata": {},
   "source": [
    "<img src=\"rectangle_draw.png\" align='Left'/>"
   ]
  },
  {
   "cell_type": "code",
   "execution_count": 32,
   "metadata": {},
   "outputs": [],
   "source": [
    "draw.ellipse((120,30,160,60), fill='red')\n",
    "black_image.save('ellipse_draw.png')"
   ]
  },
  {
   "cell_type": "markdown",
   "metadata": {},
   "source": [
    "<img src=\"ellipse_draw.png\" align='Left'/>"
   ]
  },
  {
   "cell_type": "code",
   "execution_count": 33,
   "metadata": {},
   "outputs": [],
   "source": [
    "draw.polygon(((10,280),(60,260),(30, 290)), fill='blue')\n",
    "black_image.save('polygon_draw.png')"
   ]
  },
  {
   "cell_type": "markdown",
   "metadata": {},
   "source": [
    "<img src=\"polygon_draw.png\" align='Left'/>"
   ]
  },
  {
   "cell_type": "markdown",
   "metadata": {},
   "source": [
    "**Drawing Text:** The *ImageDraw* object has a **text** method for drawing text onto an image. The text() method takes 4 arguments: \n",
    "\n",
    "- xy: Two integer tuple specifying the upper-left corner of the text box\n",
    "- text: String of text we want to write\n",
    "- fill (Optional): Color of the text\n",
    "- font: Set the type-face and size of the text."
   ]
  },
  {
   "cell_type": "code",
   "execution_count": 39,
   "metadata": {},
   "outputs": [],
   "source": [
    "from PIL import ImageFont, Image, ImageDraw\n",
    "import os\n",
    "white_backdrop = Image.new('RGBA', (200,200), 'white')\n",
    "draw = ImageDraw.Draw(white_backdrop)\n",
    "draw.text((50,20), 'Thats all Folks!', fill='black')\n",
    "font_folder = 'F:\\\\python_basics\\\\Advanced\\\\image_manipulation'\n",
    "times_new_roman = ImageFont.truetype(os.path.join(font_folder, 'TimesNewRomanPSMT.ttf'), 30)\n",
    "draw.text((40,100), 'The End!', fill='red', font=times_new_roman)\n",
    "white_backdrop.save('text.png')"
   ]
  },
  {
   "cell_type": "markdown",
   "metadata": {},
   "source": [
    "<img src=\"text.png\" align='Left'/>"
   ]
  }
 ],
 "metadata": {
  "kernelspec": {
   "display_name": "Python 3",
   "language": "python",
   "name": "python3"
  },
  "language_info": {
   "codemirror_mode": {
    "name": "ipython",
    "version": 3
   },
   "file_extension": ".py",
   "mimetype": "text/x-python",
   "name": "python",
   "nbconvert_exporter": "python",
   "pygments_lexer": "ipython3",
   "version": "3.7.6"
  }
 },
 "nbformat": 4,
 "nbformat_minor": 4
}
