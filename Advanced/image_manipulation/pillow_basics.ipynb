{
 "cells": [
  {
   "cell_type": "markdown",
   "metadata": {},
   "source": [
    "### Pillow\n",
    "Pillow is a third party Python module for interacting with image files. The module has several functions that make it easy to crop, resize, and edit the content of an image."
   ]
  },
  {
   "cell_type": "markdown",
   "metadata": {},
   "source": [
    "#### Colors and RGBA Values\n",
    "An **RGBA** value is a group of numbers that specify the amount of **Red, Green, Blue, and Alplha (or Transparency)** in a color. Each of these component values is an integer from 0 (minimum) to 255 (maximum). Theese RGBA values are assigned to individual **pixels**. A pixel is the smallest dot of a single-color the computer can show. A pixel's RGBA setting tells it precisely what shade of color it should display. **In Pillow, RGBA values are represented by a tuple of four integer values.**"
   ]
  },
  {
   "cell_type": "markdown",
   "metadata": {},
   "source": [
    "**ImageColor.getcolor()** function can be used to return an RGBA tuple"
   ]
  },
  {
   "cell_type": "code",
   "execution_count": 5,
   "metadata": {},
   "outputs": [
    {
     "name": "stdout",
     "output_type": "stream",
     "text": [
      "(255, 0, 0, 255)\n"
     ]
    }
   ],
   "source": [
    "from PIL import ImageColor\n",
    "\n",
    "#Printing the RGBA value of RED color\n",
    "\n",
    "print(ImageColor.getcolor('Red','RGBA'))"
   ]
  },
  {
   "cell_type": "markdown",
   "metadata": {},
   "source": [
    "#### Co-ordinates and Box Tuples\n",
    "Image Pixels are addressed with x- and y-coordinates, which respectively specify a pixel's horizontal and vertical location in an image. The origin is the pixel at the top-left corner of the image and is specified with the notation (0,0). The x-coordinate increases going from left to right while the y-coordinate increases going from top to bottom. Many of the Pillow's functions and methods take a box tuple argument that consists of four integer coordinates that represent a rectangular region in an image. The four integers are:\n",
    "\n",
    "- Left: x-coordinate of the leftmost edge of the box\n",
    "- Top: y-coordinate of the top edge of the box\n",
    "- Right: x-cooridnate of one pixel to the right of the rightmost edge of the box\n",
    "- Bottom: y-coordinate of one pixel lower than the bottom edge of the box"
   ]
  },
  {
   "cell_type": "markdown",
   "metadata": {},
   "source": [
    "#### Image Manipulation with Pillow\n",
    "\n",
    "To load the image, we import the **Image** module from Pillow and call **Image.open()**, passing it the image filename. We can the store the loaded image in a variable."
   ]
  },
  {
   "cell_type": "code",
   "execution_count": 6,
   "metadata": {},
   "outputs": [],
   "source": [
    "from PIL import Image\n",
    "bugs_bunny = Image.open('bunny.jpg')"
   ]
  },
  {
   "cell_type": "markdown",
   "metadata": {},
   "source": [
    "The **Image.open()** function returns a value of the Image object data type. Any changes made to the Image object data type can be saved to an Image file with the **save()** method. **All rotation, resizing, cropping, drawing, and other manipulation will be done through method calls on this Image object.**"
   ]
  },
  {
   "cell_type": "markdown",
   "metadata": {},
   "source": [
    "**For our convenience, we will be using the following picture of Bugs Bunny (My Favorite Cartoon Character!)**"
   ]
  },
  {
   "cell_type": "markdown",
   "metadata": {},
   "source": [
    "<img src=\"bunny.jpg\" align='Left'/>"
   ]
  },
  {
   "cell_type": "markdown",
   "metadata": {},
   "source": [
    "**Get the width and height of the image**"
   ]
  },
  {
   "cell_type": "code",
   "execution_count": 7,
   "metadata": {},
   "outputs": [
    {
     "name": "stdout",
     "output_type": "stream",
     "text": [
      "(280, 350)\n"
     ]
    }
   ],
   "source": [
    "print(bugs_bunny.size)\n",
    "width, height = bugs_bunny.size"
   ]
  },
  {
   "cell_type": "markdown",
   "metadata": {},
   "source": [
    "**Get the image filename**"
   ]
  },
  {
   "cell_type": "code",
   "execution_count": 8,
   "metadata": {},
   "outputs": [
    {
     "data": {
      "text/plain": [
       "'bunny.jpg'"
      ]
     },
     "execution_count": 8,
     "metadata": {},
     "output_type": "execute_result"
    }
   ],
   "source": [
    "bugs_bunny.filename"
   ]
  },
  {
   "cell_type": "markdown",
   "metadata": {},
   "source": [
    "**Get the image format**"
   ]
  },
  {
   "cell_type": "code",
   "execution_count": 9,
   "metadata": {},
   "outputs": [
    {
     "data": {
      "text/plain": [
       "'JPEG'"
      ]
     },
     "execution_count": 9,
     "metadata": {},
     "output_type": "execute_result"
    }
   ],
   "source": [
    "bugs_bunny.format"
   ]
  },
  {
   "cell_type": "markdown",
   "metadata": {},
   "source": [
    "**Describe the image format**"
   ]
  },
  {
   "cell_type": "code",
   "execution_count": 10,
   "metadata": {},
   "outputs": [
    {
     "data": {
      "text/plain": [
       "'JPEG (ISO 10918)'"
      ]
     },
     "execution_count": 10,
     "metadata": {},
     "output_type": "execute_result"
    }
   ],
   "source": [
    "bugs_bunny.format_description"
   ]
  },
  {
   "cell_type": "markdown",
   "metadata": {},
   "source": [
    "**Save the image into a new file**"
   ]
  },
  {
   "cell_type": "code",
   "execution_count": 13,
   "metadata": {},
   "outputs": [],
   "source": [
    "bugs_bunny.save('bugs_copy.png')"
   ]
  },
  {
   "cell_type": "markdown",
   "metadata": {},
   "source": [
    "**Using the Image.new() function.**\n",
    "The Image.new() function takes the following arguments:\n",
    "- String \"RGBA\" which sets the color mode to RGBA\n",
    "- Size, as a two integer tuple of the new image's width and height\n",
    "- The background color that the image should start with as a four integer tuple of an RGBA value"
   ]
  },
  {
   "cell_type": "code",
   "execution_count": 17,
   "metadata": {},
   "outputs": [],
   "source": [
    "from PIL import Image\n",
    "backdrop = Image.new('RGBA', (200,300), 'purple')\n",
    "backdrop.save('purple.png')"
   ]
  },
  {
   "cell_type": "markdown",
   "metadata": {},
   "source": [
    "<img src=\"purple.png\" align='Left'/>"
   ]
  },
  {
   "cell_type": "code",
   "execution_count": null,
   "metadata": {},
   "outputs": [],
   "source": []
  },
  {
   "cell_type": "code",
   "execution_count": null,
   "metadata": {},
   "outputs": [],
   "source": []
  }
 ],
 "metadata": {
  "kernelspec": {
   "display_name": "Python 3",
   "language": "python",
   "name": "python3"
  },
  "language_info": {
   "codemirror_mode": {
    "name": "ipython",
    "version": 3
   },
   "file_extension": ".py",
   "mimetype": "text/x-python",
   "name": "python",
   "nbconvert_exporter": "python",
   "pygments_lexer": "ipython3",
   "version": "3.7.6"
  }
 },
 "nbformat": 4,
 "nbformat_minor": 4
}
