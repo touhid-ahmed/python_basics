{
 "cells": [
  {
   "cell_type": "markdown",
   "metadata": {},
   "source": [
    "### JSON\n",
    "**JSON stands for JavaScript Object Notation**.  It is a format that stores information as JavaScript source code in plaintext files meaning that **it formats data as a single human-readable string** The JSON format is **used in many web applications**."
   ]
  },
  {
   "cell_type": "markdown",
   "metadata": {},
   "source": [
    "### API\n",
    "Many websites offer JSON content as a way for programs to interact with the website. This is known as providing an ***Application Programming Interface or API.*** Accessing an API is the same as accessing any other web page via a URL. The only difference is that the **data returned by an API is formatted (with JSON)**."
   ]
  },
  {
   "cell_type": "markdown",
   "metadata": {},
   "source": [
    "### JSON Module\n",
    "Python's **json** module is used to **translate the JSON data into python values and vice versa using the** ***json.loads() and json.dumps() function***. JSON cannot store every kind of Python values and is limited to the following data types: **strings, integers, floats, Booleans, lists, dictionaries, and NoneType.** JSON cannot represent python-specific objects such as File objects, CSV Reader or Writer objects, Regex objects, etc."
   ]
  },
  {
   "cell_type": "markdown",
   "metadata": {},
   "source": [
    "#### Translate a string containing JSON data into Python value with the loads() function. \"loads\" means load string. JSON strings always use double quotes (\" \")."
   ]
  },
  {
   "cell_type": "code",
   "execution_count": 2,
   "metadata": {},
   "outputs": [
    {
     "name": "stdout",
     "output_type": "stream",
     "text": [
      "{'fruit': 'Apple', 'Tasty': True, 'Price': 77.7, 'Discount': None}\n"
     ]
    }
   ],
   "source": [
    "import json\n",
    "\n",
    "json_data = '{\"fruit\": \"Apple\", \"Tasty\": true, \"Price\": 77.7, \"Discount\": null}'\n",
    "\n",
    "json_to_python = json.loads(json_data)\n",
    "\n",
    "print(json_to_python)\n"
   ]
  },
  {
   "cell_type": "markdown",
   "metadata": {},
   "source": [
    "#### Translate a Python value into a JSON formatted string with the dumps() function. \"dumps\" means dump string."
   ]
  },
  {
   "cell_type": "code",
   "execution_count": 3,
   "metadata": {},
   "outputs": [
    {
     "name": "stdout",
     "output_type": "stream",
     "text": [
      "{\"fruit\": \"Pineapple\", \"Tasty\": true, \"Price\": 80, \"Discount\": null}\n"
     ]
    }
   ],
   "source": [
    "import json\n",
    "\n",
    "python_data = {\"fruit\": \"Pineapple\", \"Tasty\": True, \"Price\": 80, \"Discount\": None}\n",
    "\n",
    "python_to_json = json.dumps(python_data)\n",
    "\n",
    "print(python_to_json)"
   ]
  }
 ],
 "metadata": {
  "kernelspec": {
   "display_name": "Python 3",
   "language": "python",
   "name": "python3"
  },
  "language_info": {
   "codemirror_mode": {
    "name": "ipython",
    "version": 3
   },
   "file_extension": ".py",
   "mimetype": "text/x-python",
   "name": "python",
   "nbconvert_exporter": "python",
   "pygments_lexer": "ipython3",
   "version": "3.7.6"
  }
 },
 "nbformat": 4,
 "nbformat_minor": 4
}
