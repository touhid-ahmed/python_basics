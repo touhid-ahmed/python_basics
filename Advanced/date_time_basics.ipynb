{
 "cells": [
  {
   "cell_type": "markdown",
   "metadata": {},
   "source": [
    "#### Time Module\n",
    "The **time** module allows the python programs to read the system clock for the current time. Two useful functions of the time module is **time.time()** and **time.sleep()**. "
   ]
  },
  {
   "cell_type": "markdown",
   "metadata": {},
   "source": [
    "**time.time() Function:**\n",
    "The time.time() fuction returns the number of seconds passed between the Unix epoch and the moment time.time() was called. Unix epoc is a time reference commonly used in programming."
   ]
  },
  {
   "cell_type": "code",
   "execution_count": 1,
   "metadata": {},
   "outputs": [
    {
     "name": "stdout",
     "output_type": "stream",
     "text": [
      "1599899338.2682061\n"
     ]
    }
   ],
   "source": [
    "import time\n",
    "\n",
    "print(time.time())"
   ]
  },
  {
   "cell_type": "markdown",
   "metadata": {},
   "source": [
    "We can use the epoch timestamp to measure how long a piece of code takes to run."
   ]
  },
  {
   "cell_type": "code",
   "execution_count": 10,
   "metadata": {},
   "outputs": [
    {
     "name": "stdout",
     "output_type": "stream",
     "text": [
      "Program starts\n",
      "The result is 456569 digits long!\n",
      "Program End\n",
      "Program took: 5.621964454650879 seconds to complete\n"
     ]
    }
   ],
   "source": [
    "import time\n",
    "\n",
    "def keep_multiplying(num):\n",
    "    total = 1\n",
    "    for i in range(1,num):\n",
    "        total = total*i\n",
    "    print(\"The result is \" + str(len(str(total))) + \" digits long!\")\n",
    "\n",
    "print(\"Program starts\")\n",
    "\n",
    "current_time = time.time()\n",
    "keep_multiplying(100000)\n",
    "print(\"Program End\")\n",
    "end_time = time.time()\n",
    "print(\"Program took: \" + str(end_time - current_time) + \" seconds to complete\")"
   ]
  },
  {
   "cell_type": "markdown",
   "metadata": {},
   "source": [
    "**time.sleep():** The time.sleep() function stops the program for a given number of seconds. "
   ]
  },
  {
   "cell_type": "code",
   "execution_count": 12,
   "metadata": {},
   "outputs": [
    {
     "name": "stdout",
     "output_type": "stream",
     "text": [
      "Left!\n",
      "Right!\n",
      "Left!\n",
      "Right!\n",
      "Left!\n",
      "Right!\n"
     ]
    }
   ],
   "source": [
    "import time\n",
    "\n",
    "for i in range(3):\n",
    "    print(\"Left!\")\n",
    "    time.sleep(1)\n",
    "    print(\"Right!\")\n",
    "    time.sleep(1)\n"
   ]
  },
  {
   "cell_type": "markdown",
   "metadata": {},
   "source": [
    "#### Datetime Module\n",
    "The **datetime** module is used to display a date in a convenient format as well as do arithmatic with dates. It has its own data type. The datetime values represent a specific moment in time."
   ]
  },
  {
   "cell_type": "code",
   "execution_count": 18,
   "metadata": {},
   "outputs": [
    {
     "name": "stdout",
     "output_type": "stream",
     "text": [
      "2020-09-12 14:53:34.902893\n"
     ]
    }
   ],
   "source": [
    "import datetime\n",
    "\n",
    "print(datetime.datetime.now())"
   ]
  },
  {
   "cell_type": "markdown",
   "metadata": {},
   "source": [
    "Retrieve values separately from the datetime module."
   ]
  },
  {
   "cell_type": "code",
   "execution_count": 17,
   "metadata": {},
   "outputs": [
    {
     "data": {
      "text/plain": [
       "(12, 9, 2020)"
      ]
     },
     "execution_count": 17,
     "metadata": {},
     "output_type": "execute_result"
    }
   ],
   "source": [
    "time_now = datetime.datetime.now()\n",
    "\n",
    "time_now.day, time_now.month, time_now.year"
   ]
  },
  {
   "cell_type": "markdown",
   "metadata": {},
   "source": [
    "A unix epoch timestamp can be converted to a datetime object with the datetime.datetime.fromtimestamp() function. The date and time of the datetime object will be converted for the local timezone."
   ]
  },
  {
   "cell_type": "code",
   "execution_count": 2,
   "metadata": {},
   "outputs": [
    {
     "name": "stdout",
     "output_type": "stream",
     "text": [
      "2020-09-13 23:29:28.166729\n"
     ]
    }
   ],
   "source": [
    "import time\n",
    "import datetime\n",
    "my_time = datetime.datetime.fromtimestamp(time.time())\n",
    "print(my_time)"
   ]
  },
  {
   "cell_type": "code",
   "execution_count": null,
   "metadata": {},
   "outputs": [],
   "source": [
    "# Do a Birthday calculator"
   ]
  }
 ],
 "metadata": {
  "kernelspec": {
   "display_name": "Python 3",
   "language": "python",
   "name": "python3"
  },
  "language_info": {
   "codemirror_mode": {
    "name": "ipython",
    "version": 3
   },
   "file_extension": ".py",
   "mimetype": "text/x-python",
   "name": "python",
   "nbconvert_exporter": "python",
   "pygments_lexer": "ipython3",
   "version": "3.7.6"
  }
 },
 "nbformat": 4,
 "nbformat_minor": 4
}
