{
 "cells": [
  {
   "cell_type": "code",
   "execution_count": 4,
   "metadata": {},
   "outputs": [
    {
     "name": "stdout",
     "output_type": "stream",
     "text": [
      "Phone number found: 017-5157-8040\n"
     ]
    }
   ],
   "source": [
    "\"\"\"Import the regex module\"\"\"\n",
    "import re\n",
    "\n",
    "\"\"\"Create a Regex object with re.compile() function\"\"\"\n",
    "myNum = re.compile(r'\\d\\d\\d-\\d\\d\\d\\d-\\d\\d\\d\\d')\n",
    "\n",
    "\"\"\"Use the .search() to find the pattern which returns a match object\"\"\"\n",
    "example = myNum.search('My number is 017-5157-8040')\n",
    "\n",
    "\"\"\"Use the match object's .group() method to return a string of the actual matched text\"\"\"\n",
    "print(\"Phone number found: \" + example.group())"
   ]
  },
  {
   "cell_type": "code",
   "execution_count": 22,
   "metadata": {},
   "outputs": [
    {
     "name": "stdout",
     "output_type": "stream",
     "text": [
      "016-8067-942\n",
      "016\n",
      "8067-942\n",
      "('016', '8067-942')\n",
      "The telecom operator starts with: 016\n"
     ]
    }
   ],
   "source": [
    "# Grouping with parentheses\n",
    "\n",
    "new_num = re.compile(r'(\\d\\d\\d)-(\\d\\d\\d\\d-\\d\\d\\d)')\n",
    "get_num = new_num.search(\"Write this number: 016-8067-9425\")\n",
    "\n",
    "print(get_num.group(0))\n",
    "print(get_num.group(1))\n",
    "print(get_num.group(2))\n",
    "\n",
    "\n",
    "# Retrieve all groups\n",
    "\n",
    "print(get_num.groups())\n",
    "\n",
    "telecom, main_num = get_num.groups()\n",
    "\n",
    "print(\"The telecom operator starts with: \" + telecom)\n"
   ]
  },
  {
   "cell_type": "code",
   "execution_count": null,
   "metadata": {},
   "outputs": [],
   "source": []
  }
 ],
 "metadata": {
  "kernelspec": {
   "display_name": "Python 3",
   "language": "python",
   "name": "python3"
  },
  "language_info": {
   "codemirror_mode": {
    "name": "ipython",
    "version": 3
   },
   "file_extension": ".py",
   "mimetype": "text/x-python",
   "name": "python",
   "nbconvert_exporter": "python",
   "pygments_lexer": "ipython3",
   "version": "3.7.6"
  }
 },
 "nbformat": 4,
 "nbformat_minor": 4
}
