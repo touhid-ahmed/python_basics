{
 "cells": [
  {
   "cell_type": "markdown",
   "metadata": {},
   "source": [
    "#### Subprocess\n",
    "Python can start other programs on our computer with the **Popen()** function in the built-in **subprocess** module. "
   ]
  },
  {
   "cell_type": "markdown",
   "metadata": {},
   "source": [
    "Open the notepad with the **Popen** function"
   ]
  },
  {
   "cell_type": "code",
   "execution_count": 2,
   "metadata": {},
   "outputs": [
    {
     "data": {
      "text/plain": [
       "<subprocess.Popen at 0x2ce55a94ac8>"
      ]
     },
     "execution_count": 2,
     "metadata": {},
     "output_type": "execute_result"
    }
   ],
   "source": [
    "import subprocess\n",
    "subprocess.Popen('C:\\\\Windows\\\\System32\\\\notepad.exe')"
   ]
  },
  {
   "cell_type": "markdown",
   "metadata": {},
   "source": [
    "The return value is a Popen object that has two useful methods: **poll() and wait()**"
   ]
  },
  {
   "cell_type": "markdown",
   "metadata": {},
   "source": [
    "##### poll()\n",
    "**poll()** method will return **None** if the process is still running at the time **poll()** is called. If the program is terminated it will return the process's integer *exit code* which indicates whether the process has been terminated without errors. An **exit code of 0** means **clean exit** and an **exit code of 1 or non-zero integer** means that an **error has occured**.\n",
    "\n",
    "##### wait()\n",
    "\n",
    "**wait()** method will block until the launched process has been terminated. This is helpful if we want our program to pause until the user finishes with the other program."
   ]
  },
  {
   "cell_type": "code",
   "execution_count": 8,
   "metadata": {},
   "outputs": [
    {
     "name": "stdout",
     "output_type": "stream",
     "text": [
      "Application is Running\n",
      "None\n",
      "Blocking the program\n",
      "0\n"
     ]
    }
   ],
   "source": [
    "import subprocess\n",
    "open_calculator = subprocess.Popen('C:\\\\Windows\\\\System32\\\\calc.exe')\n",
    "\n",
    "print(\"Application is Running\")\n",
    "print(open_calculator.poll())\n",
    "\n",
    "print(\"Blocking the program\")\n",
    "print(open_calculator.wait())"
   ]
  },
  {
   "cell_type": "code",
   "execution_count": 9,
   "metadata": {},
   "outputs": [
    {
     "name": "stdout",
     "output_type": "stream",
     "text": [
      "Application has been shutdown\n",
      "0\n"
     ]
    }
   ],
   "source": [
    "print(\"Application has been shutdown\")\n",
    "print(open_calculator.poll())"
   ]
  },
  {
   "cell_type": "code",
   "execution_count": null,
   "metadata": {},
   "outputs": [],
   "source": []
  }
 ],
 "metadata": {
  "kernelspec": {
   "display_name": "Python 3",
   "language": "python",
   "name": "python3"
  },
  "language_info": {
   "codemirror_mode": {
    "name": "ipython",
    "version": 3
   },
   "file_extension": ".py",
   "mimetype": "text/x-python",
   "name": "python",
   "nbconvert_exporter": "python",
   "pygments_lexer": "ipython3",
   "version": "3.7.6"
  }
 },
 "nbformat": 4,
 "nbformat_minor": 4
}
