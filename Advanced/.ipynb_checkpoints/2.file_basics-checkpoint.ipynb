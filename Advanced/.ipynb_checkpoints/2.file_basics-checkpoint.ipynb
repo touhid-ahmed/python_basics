{
 "cells": [
  {
   "cell_type": "markdown",
   "metadata": {},
   "source": [
    "### Uses of OS module"
   ]
  },
  {
   "cell_type": "code",
   "execution_count": 3,
   "metadata": {},
   "outputs": [
    {
     "name": "stdout",
     "output_type": "stream",
     "text": [
      "F:\\python_basics\\Advanced\n"
     ]
    }
   ],
   "source": [
    "# Print current working directory with .getcwd() function\n",
    "\n",
    "import os\n",
    "\n",
    "print(os.getcwd())"
   ]
  },
  {
   "cell_type": "code",
   "execution_count": 7,
   "metadata": {},
   "outputs": [
    {
     "name": "stdout",
     "output_type": "stream",
     "text": [
      "Directory changed to: F:\\python_basics\n",
      "Directory returned to: F:\\python_basics\\Advanced\n"
     ]
    }
   ],
   "source": [
    "# Change current working directory with .chdir() function\n",
    "\n",
    "os.chdir('F:\\python_basics')\n",
    "\n",
    "print(\"Directory changed to:\", os.getcwd())\n",
    "\n",
    "os.chdir('F:\\python_basics\\Advanced')\n",
    "\n",
    "print(\"Directory returned to:\", os.getcwd())\n"
   ]
  },
  {
   "cell_type": "code",
   "execution_count": 8,
   "metadata": {},
   "outputs": [],
   "source": [
    "# Create New folder with .makedirs()\n",
    "\n",
    "os.makedirs('F:\\python_basics\\Advanced\\Test_folder')\n"
   ]
  },
  {
   "cell_type": "code",
   "execution_count": 10,
   "metadata": {},
   "outputs": [
    {
     "data": {
      "text/plain": [
       "'F:\\\\python_basics\\\\Advanced'"
      ]
     },
     "execution_count": 10,
     "metadata": {},
     "output_type": "execute_result"
    }
   ],
   "source": [
    "# Return the absolute path of relative path\n",
    "\n",
    "os.path.abspath('.')"
   ]
  },
  {
   "cell_type": "code",
   "execution_count": 25,
   "metadata": {},
   "outputs": [
    {
     "name": "stdout",
     "output_type": "stream",
     "text": [
      "The file size of '1.regex.ipynb' is: 4183 Bytes.\n"
     ]
    }
   ],
   "source": [
    "# Finding File sizes and folder contents\n",
    "\n",
    "file_size = os.path.getsize('F:\\\\python_basics\\\\Advanced\\\\1.regex.ipynb')\n",
    "\n",
    "print(\"The file size of '1.regex.ipynb' is: \" + str(file_size) + \" Bytes.\")"
   ]
  },
  {
   "cell_type": "code",
   "execution_count": 24,
   "metadata": {},
   "outputs": [
    {
     "name": "stdout",
     "output_type": "stream",
     "text": [
      "The folder contains:  ['.ipynb_checkpoints', '1.regex.ipynb', '2.file_basics.ipynb', '3.class_tutorial.ipynb', 'output.txt', 'read_file.txt', 'Test_folder']\n"
     ]
    }
   ],
   "source": [
    "# List the folder contents\n",
    "\n",
    "folder_contents = os.listdir('F:\\\\python_basics\\\\Advanced')\n",
    "\n",
    "print(\"The folder contains: \", folder_contents)"
   ]
  },
  {
   "cell_type": "code",
   "execution_count": 31,
   "metadata": {},
   "outputs": [
    {
     "name": "stdout",
     "output_type": "stream",
     "text": [
      "The folder size is 97 kb.\n"
     ]
    }
   ],
   "source": [
    "# Print the total folder size\n",
    "\n",
    "totalsize = 0\n",
    "\n",
    "for file in os.listdir('F:\\\\python_basics\\\\Advanced'):\n",
    "    totalsize = totalsize + os.path.getsize(os.path.join('F:\\\\python_basics\\\\Advanced', file))\n",
    "\n",
    "size_in_kb = (totalsize*8)//1000\n",
    "\n",
    "print(\"The folder size is \" + str(size_in_kb)+ \" kb.\")"
   ]
  },
  {
   "cell_type": "markdown",
   "metadata": {},
   "source": [
    "### File I/O "
   ]
  },
  {
   "cell_type": "code",
   "execution_count": 34,
   "metadata": {},
   "outputs": [
    {
     "name": "stdout",
     "output_type": "stream",
     "text": [
      "Book Quotes\n",
      "\n",
      "1. Sometimes, you read a book and it fills you with this weird evangelical zeal, and you become convinced that the shattered world will never be put back together unless and until all living humans read the book.\n",
      "\n",
      "2. It is what you read when you don't have to that determines what you will be when you can't help it.\n"
     ]
    }
   ],
   "source": [
    "with open ('read_file.txt') as file_object:\n",
    "    content = file_object.read()\n",
    "    file_object.close()\n",
    "    \n",
    "print(content)"
   ]
  },
  {
   "cell_type": "code",
   "execution_count": 5,
   "metadata": {},
   "outputs": [],
   "source": [
    "with open ('output.txt','w') as file_object:\n",
    "    file_object.write(str(\"This line has been written\"))\n",
    "    file_object.close()\n",
    "    "
   ]
  },
  {
   "cell_type": "code",
   "execution_count": 33,
   "metadata": {},
   "outputs": [
    {
     "name": "stdout",
     "output_type": "stream",
     "text": [
      "['Book Quotes\\n', '\\n', '1. Sometimes, you read a book and it fills you with this weird evangelical zeal, and you become convinced that the shattered world will never be put back together unless and until all living humans read the book.\\n', '\\n', \"2. It is what you read when you don't have to that determines what you will be when you can't help it.\"]\n"
     ]
    }
   ],
   "source": [
    "with open ('read_file.txt') as file_object:\n",
    "    content = file_object.readlines()\n",
    "    file_object.close()\n",
    "print(content)"
   ]
  },
  {
   "cell_type": "code",
   "execution_count": 32,
   "metadata": {},
   "outputs": [
    {
     "name": "stdout",
     "output_type": "stream",
     "text": [
      "Book Quotes\n",
      "\n"
     ]
    }
   ],
   "source": [
    "with open ('read_file.txt') as file_object:\n",
    "    content = file_object.readline()\n",
    "    file_object.close()\n",
    "print(content)"
   ]
  },
  {
   "cell_type": "code",
   "execution_count": null,
   "metadata": {},
   "outputs": [],
   "source": []
  }
 ],
 "metadata": {
  "kernelspec": {
   "display_name": "Python 3",
   "language": "python",
   "name": "python3"
  },
  "language_info": {
   "codemirror_mode": {
    "name": "ipython",
    "version": 3
   },
   "file_extension": ".py",
   "mimetype": "text/x-python",
   "name": "python",
   "nbconvert_exporter": "python",
   "pygments_lexer": "ipython3",
   "version": "3.7.6"
  }
 },
 "nbformat": 4,
 "nbformat_minor": 4
}
